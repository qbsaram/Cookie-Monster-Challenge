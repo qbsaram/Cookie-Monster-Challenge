{
 "metadata": {
  "language_info": {
   "codemirror_mode": {
    "name": "ipython",
    "version": 3
   },
   "file_extension": ".py",
   "mimetype": "text/x-python",
   "name": "python",
   "nbconvert_exporter": "python",
   "pygments_lexer": "ipython3",
   "version": "3.8.8"
  },
  "orig_nbformat": 4,
  "kernelspec": {
   "name": "python3",
   "display_name": "Python 3.8.8 64-bit ('base': conda)"
  },
  "interpreter": {
   "hash": "05b3b62c7789db94d00c942f2499dd9a2876ea971fd9b7cf25c50892de6c631c"
  }
 },
 "nbformat": 4,
 "nbformat_minor": 2,
 "cells": [
  {
   "source": [
    "## Importing libraries "
   ],
   "cell_type": "markdown",
   "metadata": {}
  },
  {
   "cell_type": "code",
   "execution_count": 1,
   "metadata": {},
   "outputs": [],
   "source": [
    "import pandas as pd\n",
    "import numpy as np\n",
    "import matplotlib.pyplot as plt\n",
    "import seaborn as sns\n",
    "\n",
    "from sklearn.preprocessing import StandardScaler, OneHotEncoder\n",
    "\n",
    "\n",
    "from sklearn.linear_model import LogisticRegression , LinearRegression\n",
    "from sklearn.neighbors import KNeighborsClassifier, KNeighborsRegressor\n",
    "from sklearn.tree import DecisionTreeClassifier , DecisionTreeRegressor\n",
    "from sklearn.ensemble import RandomForestRegressor\n",
    "\n",
    "from sklearn.model_selection import GridSearchCV\n",
    "\n",
    "from sklearn.metrics import mean_absolute_error, mean_squared_error, r2_score, confusion_matrix,plot_confusion_matrix,cohen_kappa_score,accuracy_score,recall_score,precision_score,f1_score,classification_report"
   ]
  },
  {
   "source": [
    "## Importing dataframes"
   ],
   "cell_type": "markdown",
   "metadata": {}
  },
  {
   "cell_type": "code",
   "execution_count": 2,
   "metadata": {},
   "outputs": [],
   "source": [
    "cookies2_train = pd.read_csv(\"../data/cookies2_processed.csv\")\n",
    "cookies2_test = pd.read_csv(\"../data/cookies2_test_processed.csv\")"
   ]
  },
  {
   "cell_type": "code",
   "execution_count": 3,
   "metadata": {},
   "outputs": [],
   "source": [
    "# regressor"
   ]
  },
  {
   "cell_type": "code",
   "execution_count": 4,
   "metadata": {},
   "outputs": [],
   "source": [
    "X_train = cookies2_train.drop(columns=\"quality\")"
   ]
  },
  {
   "cell_type": "code",
   "execution_count": 5,
   "metadata": {},
   "outputs": [],
   "source": [
    "X_test = cookies2_test.drop(columns=\"quality\")"
   ]
  },
  {
   "cell_type": "code",
   "execution_count": 6,
   "metadata": {},
   "outputs": [],
   "source": [
    "y_train = cookies2_train[\"quality\"]"
   ]
  },
  {
   "cell_type": "code",
   "execution_count": 7,
   "metadata": {},
   "outputs": [],
   "source": [
    "y_test = cookies2_test[\"quality\"]"
   ]
  },
  {
   "cell_type": "code",
   "execution_count": 8,
   "metadata": {},
   "outputs": [],
   "source": [
    "scaler = StandardScaler()"
   ]
  },
  {
   "cell_type": "code",
   "execution_count": 9,
   "metadata": {},
   "outputs": [
    {
     "output_type": "execute_result",
     "data": {
      "text/plain": [
       "StandardScaler()"
      ]
     },
     "metadata": {},
     "execution_count": 9
    }
   ],
   "source": [
    "scaler.fit(X_train)"
   ]
  },
  {
   "cell_type": "code",
   "execution_count": 10,
   "metadata": {},
   "outputs": [],
   "source": [
    "#transforming the data without the prediction column with the scaler we trained beforehand\n",
    "\n",
    "X_train_scaled = scaler.transform(X_train)\n",
    "X_test_scaled = scaler.transform(X_test)"
   ]
  },
  {
   "source": [
    "## KNeighbors"
   ],
   "cell_type": "markdown",
   "metadata": {}
  },
  {
   "cell_type": "code",
   "execution_count": 30,
   "metadata": {},
   "outputs": [],
   "source": [
    "grid = GridSearchCV(estimator = KNeighborsRegressor(), param_grid= {'n_neighbors':[2,3,4,5,6,7,8,9,10,11,12,13,14,15,16,17,18,19,20,21,22,23,24,25,26,27,28,29,30,31,32,33,34,35,36,37,38,39,40], 'weights':['uniform','distance']})"
   ]
  },
  {
   "cell_type": "code",
   "execution_count": 31,
   "metadata": {},
   "outputs": [
    {
     "output_type": "execute_result",
     "data": {
      "text/plain": [
       "GridSearchCV(estimator=KNeighborsRegressor(),\n",
       "             param_grid={'n_neighbors': [2, 3, 4, 5, 6, 7, 8, 9, 10, 11, 12, 13,\n",
       "                                         14, 15, 16, 17, 18, 19, 20, 21, 22, 23,\n",
       "                                         24, 25, 26, 27, 28, 29, 30, 31, ...],\n",
       "                         'weights': ['uniform', 'distance']})"
      ]
     },
     "metadata": {},
     "execution_count": 31
    }
   ],
   "source": [
    "grid.fit(X_train_scaled, y_train)"
   ]
  },
  {
   "cell_type": "code",
   "execution_count": 32,
   "metadata": {},
   "outputs": [
    {
     "output_type": "execute_result",
     "data": {
      "text/plain": [
       "{'n_neighbors': 15, 'weights': 'distance'}"
      ]
     },
     "metadata": {},
     "execution_count": 32
    }
   ],
   "source": [
    "grid.best_params_"
   ]
  },
  {
   "cell_type": "code",
   "execution_count": 33,
   "metadata": {},
   "outputs": [],
   "source": [
    "y_pred_test = grid.predict(X_test_scaled)"
   ]
  },
  {
   "cell_type": "code",
   "execution_count": 35,
   "metadata": {},
   "outputs": [],
   "source": [
    "prediction_array = y_pred_test"
   ]
  },
  {
   "cell_type": "code",
   "execution_count": 36,
   "metadata": {},
   "outputs": [],
   "source": [
    "np.savetxt('data.csv', prediction_array, delimiter=',')"
   ]
  },
  {
   "cell_type": "code",
   "execution_count": null,
   "metadata": {},
   "outputs": [],
   "source": []
  },
  {
   "source": [
    "## KNeighbors 2"
   ],
   "cell_type": "markdown",
   "metadata": {}
  },
  {
   "cell_type": "code",
   "execution_count": 12,
   "metadata": {},
   "outputs": [],
   "source": [
    "grid = GridSearchCV(estimator = KNeighborsRegressor(), param_grid= {'n_neighbors':[2,3,4,5,6,7,8,9,10,11,12,13,14,15,16,17,18,19,20,21,22,23,24,25,26,27,28,29,30,31,32,33,34,35,36,37,38,39,40], 'weights':['uniform','distance'], \"algorithm\":[\"auto\", \"ball_tree\", \"kd_tree\", \"brute\"]})"
   ]
  },
  {
   "cell_type": "code",
   "execution_count": 13,
   "metadata": {},
   "outputs": [
    {
     "output_type": "execute_result",
     "data": {
      "text/plain": [
       "GridSearchCV(estimator=KNeighborsRegressor(),\n",
       "             param_grid={'algorithm': ['auto', 'ball_tree', 'kd_tree', 'brute'],\n",
       "                         'n_neighbors': [2, 3, 4, 5, 6, 7, 8, 9, 10, 11, 12, 13,\n",
       "                                         14, 15, 16, 17, 18, 19, 20, 21, 22, 23,\n",
       "                                         24, 25, 26, 27, 28, 29, 30, 31, ...],\n",
       "                         'weights': ['uniform', 'distance']})"
      ]
     },
     "metadata": {},
     "execution_count": 13
    }
   ],
   "source": [
    "grid.fit(X_train_scaled, y_train)"
   ]
  },
  {
   "cell_type": "code",
   "execution_count": 14,
   "metadata": {},
   "outputs": [
    {
     "output_type": "execute_result",
     "data": {
      "text/plain": [
       "{'algorithm': 'auto', 'n_neighbors': 15, 'weights': 'distance'}"
      ]
     },
     "metadata": {},
     "execution_count": 14
    }
   ],
   "source": [
    "grid.best_params_"
   ]
  },
  {
   "cell_type": "code",
   "execution_count": 15,
   "metadata": {},
   "outputs": [],
   "source": [
    "y_pred_test = grid.predict(X_test_scaled)"
   ]
  },
  {
   "cell_type": "code",
   "execution_count": 16,
   "metadata": {},
   "outputs": [],
   "source": [
    "prediction_array2 = y_pred_test"
   ]
  },
  {
   "cell_type": "code",
   "execution_count": null,
   "metadata": {},
   "outputs": [],
   "source": [
    "#np.savetxt('KN_cookies2_array.csv', prediction_array, delimiter=',')"
   ]
  },
  {
   "source": [
    "## Decision Tree"
   ],
   "cell_type": "markdown",
   "metadata": {}
  },
  {
   "cell_type": "code",
   "execution_count": 10,
   "metadata": {},
   "outputs": [],
   "source": [
    "X = cookies2_train.drop(columns = 'quality')\n"
   ]
  },
  {
   "cell_type": "code",
   "execution_count": 11,
   "metadata": {},
   "outputs": [],
   "source": [
    "X_1 = cookies2_test.drop(columns = 'quality')\n"
   ]
  },
  {
   "cell_type": "code",
   "execution_count": 12,
   "metadata": {},
   "outputs": [],
   "source": [
    "X = pd.concat([X, X_1], axis=0)"
   ]
  },
  {
   "cell_type": "code",
   "execution_count": 13,
   "metadata": {},
   "outputs": [
    {
     "output_type": "execute_result",
     "data": {
      "text/plain": [
       "GridSearchCV(cv=5, estimator=DecisionTreeRegressor(),\n",
       "             param_grid={'criterion': ['mse', 'friedman_mse', 'mae', 'poisson'],\n",
       "                         'max_depth': [None, 2, 3, 4, 5, 6, 7, 8, 9, 10, 11, 12,\n",
       "                                       13, 14, 15, 16, 17, 18, 19, 20],\n",
       "                         'max_features': [None, 'sqrt', 'auto', 'log2', 0.3,\n",
       "                                          0.5, 0.7, 8, 5],\n",
       "                         'min_samples_leaf': [1, 0.3, 0.5, 2981, 1987, 1192],\n",
       "                         'min_samples_split': [2, 0.3, 0.5, 2981, 1987, 1192],\n",
       "                         'splitter': ['best', 'random']})"
      ]
     },
     "metadata": {},
     "execution_count": 13
    }
   ],
   "source": [
    "n_features = X.shape[1]\n",
    "n_samples = X.shape[0]\n",
    "\n",
    "grid_dt = GridSearchCV(estimator = DecisionTreeRegressor(), param_grid = {\"criterion\": [\"mse\", \"friedman_mse\", \"mae\", \"poisson\"],\n",
    "                                                                       \"splitter\": [\"best\", \"random\"],\n",
    "                                                                       \"max_depth\": [None,2, 3, 4, 5, 6, 7, 8, 9, 10, 11, 12, 13, 14, 15, 16, 17, 18, 19, 20],\n",
    "                                                                       'max_features': [None, 'sqrt', 'auto', 'log2', 0.3,0.5,0.7, n_features//2, n_features//3, ],\n",
    "                                                                        'min_samples_split': [2,0.3,0.5, n_samples//2, n_samples//3, n_samples//5],\n",
    "                                                                        'min_samples_leaf':[1, 0.3,0.5, n_samples//2, n_samples//3, n_samples//5] }, cv=5)\n",
    "grid_dt.fit(X_train_scaled, y_train)\n"
   ]
  },
  {
   "cell_type": "code",
   "execution_count": null,
   "metadata": {},
   "outputs": [],
   "source": []
  },
  {
   "cell_type": "code",
   "execution_count": 14,
   "metadata": {},
   "outputs": [
    {
     "output_type": "execute_result",
     "data": {
      "text/plain": [
       "{'criterion': 'friedman_mse',\n",
       " 'max_depth': 5,\n",
       " 'max_features': 'auto',\n",
       " 'min_samples_leaf': 1,\n",
       " 'min_samples_split': 2,\n",
       " 'splitter': 'best'}"
      ]
     },
     "metadata": {},
     "execution_count": 14
    }
   ],
   "source": [
    "grid_dt.best_params_"
   ]
  },
  {
   "cell_type": "code",
   "execution_count": 15,
   "metadata": {},
   "outputs": [],
   "source": [
    "y_pred_test_dt = grid_dt.predict(X_test_scaled)"
   ]
  },
  {
   "cell_type": "code",
   "execution_count": 16,
   "metadata": {},
   "outputs": [],
   "source": [
    "prediction_array_dt_cookies2 = y_pred_test_dt"
   ]
  },
  {
   "cell_type": "code",
   "execution_count": 18,
   "metadata": {},
   "outputs": [
    {
     "output_type": "execute_result",
     "data": {
      "text/plain": [
       "array([7.67292912, 7.67292912, 7.67292912, 8.18552036, 7.67292912,\n",
       "       7.31222707, 7.67292912, 7.67292912, 8.18552036, 8.04526749,\n",
       "       7.67292912, 7.70422535, 7.31222707, 7.67292912, 8.61847988,\n",
       "       7.67292912, 8.04526749, 7.31222707, 8.61847988, 8.18552036,\n",
       "       8.04526749, 8.04526749, 8.18552036, 7.67292912, 7.67292912,\n",
       "       7.67292912, 7.66666667, 7.67292912, 7.67292912, 7.67292912,\n",
       "       8.18552036, 7.67292912, 7.31222707, 7.70422535, 8.18552036,\n",
       "       8.04526749, 8.61847988, 8.18552036, 6.8625    , 8.04526749,\n",
       "       8.04526749, 7.67292912, 8.04526749, 7.31222707, 7.31222707,\n",
       "       7.31222707, 7.67292912, 8.18552036, 7.67292912, 8.04526749,\n",
       "       7.31222707, 7.67292912, 7.67292912, 8.04526749, 7.31222707,\n",
       "       8.18552036, 7.67292912, 6.8625    , 8.        , 8.61847988,\n",
       "       7.67292912, 7.67292912, 6.8625    , 8.18552036, 8.18552036,\n",
       "       7.67292912, 7.67292912, 7.67292912, 7.67292912, 8.        ,\n",
       "       8.04526749, 8.61847988, 7.67292912, 7.31222707, 8.04526749,\n",
       "       6.        , 8.18552036, 7.67292912, 7.31222707, 7.67292912,\n",
       "       7.67292912, 8.        , 7.70422535, 7.67292912, 7.67292912,\n",
       "       8.61847988, 8.61847988, 7.67292912, 7.67292912, 8.18552036,\n",
       "       7.67292912, 7.67292912, 8.18552036, 7.67292912, 7.67292912,\n",
       "       8.04526749, 7.67292912, 8.18552036, 7.67292912, 7.31222707,\n",
       "       8.61847988, 7.67292912, 8.18552036, 8.18552036, 8.18552036,\n",
       "       7.67292912, 7.31222707, 7.31222707, 8.04526749, 8.61847988,\n",
       "       8.04526749, 7.67292912, 7.31222707, 7.67292912, 7.67292912,\n",
       "       7.31222707, 7.67292912, 7.67292912, 8.61847988, 7.67292912,\n",
       "       8.04526749, 8.04526749, 6.8625    , 7.67292912, 8.18552036,\n",
       "       8.04526749, 7.31222707, 7.67292912, 7.67292912, 8.04526749,\n",
       "       7.31222707, 7.67292912, 7.67292912, 8.04526749, 7.31222707,\n",
       "       8.18552036, 7.31222707, 7.67292912, 7.67292912, 7.67292912,\n",
       "       8.        , 8.        , 7.67292912, 8.04526749, 7.31222707,\n",
       "       7.31222707, 7.67292912, 8.61847988, 7.67292912, 8.61847988,\n",
       "       7.31222707, 8.04526749, 7.67292912, 7.67292912, 7.67292912,\n",
       "       7.67292912, 7.67292912, 7.67292912, 8.61847988, 8.61847988,\n",
       "       8.        , 8.04526749, 7.67292912, 8.18552036, 7.67292912,\n",
       "       7.67292912, 7.67292912, 8.04526749, 7.31222707, 8.18552036,\n",
       "       8.04526749, 8.18552036, 7.31222707, 7.67292912, 8.18552036,\n",
       "       8.61847988, 8.04526749, 7.67292912, 8.18552036, 8.18552036,\n",
       "       7.67292912, 6.8625    , 7.67292912, 7.67292912, 7.67292912,\n",
       "       7.31222707, 7.67292912, 7.67292912, 7.31222707, 8.04526749,\n",
       "       7.31222707, 7.31222707, 8.04526749, 7.67292912, 8.04526749,\n",
       "       8.04526749, 7.31222707, 7.31222707, 8.61847988, 8.04526749,\n",
       "       7.67292912, 8.61847988, 8.61847988, 7.67292912, 8.61847988,\n",
       "       7.67292912, 7.67292912, 7.67292912, 7.31222707, 8.04526749,\n",
       "       7.67292912, 7.67292912, 6.        , 8.04526749, 7.31222707,\n",
       "       8.04526749, 8.04526749, 7.67292912, 7.31222707, 7.67292912,\n",
       "       7.67292912, 7.67292912, 7.67292912, 7.67292912, 6.8625    ,\n",
       "       7.31222707, 7.67292912, 7.31222707, 7.70422535, 7.67292912,\n",
       "       7.67292912, 7.67292912, 7.31222707, 7.67292912, 7.31222707,\n",
       "       8.61847988, 8.61847988, 7.31222707, 8.18552036, 7.67292912,\n",
       "       7.67292912, 7.67292912, 7.67292912, 7.31222707, 7.67292912,\n",
       "       7.31222707, 7.67292912, 7.67292912, 8.04526749, 7.67292912,\n",
       "       7.70422535, 8.04526749, 8.04526749, 7.67292912, 7.67292912,\n",
       "       8.04526749, 7.67292912, 7.31222707, 8.18552036, 7.13888889,\n",
       "       8.61847988, 7.67292912, 7.31222707, 8.61847988, 7.67292912,\n",
       "       7.31222707, 7.67292912, 7.67292912, 7.67292912, 8.18552036,\n",
       "       8.61847988, 7.67292912, 7.31222707, 6.8625    , 8.61847988,\n",
       "       7.67292912, 7.67292912, 8.61847988, 8.61847988, 8.61847988,\n",
       "       7.31222707, 8.04526749, 7.67292912, 7.28571429, 8.18552036,\n",
       "       8.18552036, 7.13888889, 7.67292912, 8.61847988, 7.31222707,\n",
       "       8.18552036, 7.67292912, 8.04526749, 8.04526749, 7.67292912,\n",
       "       8.61847988, 8.61847988, 8.04526749, 7.67292912, 7.67292912,\n",
       "       8.18552036, 8.18552036, 7.67292912, 7.67292912, 8.61847988,\n",
       "       8.18552036, 8.61847988, 8.61847988, 8.04526749, 8.18552036,\n",
       "       8.61847988, 8.18552036, 8.        , 7.67292912, 8.18552036,\n",
       "       7.67292912, 8.18552036, 7.31222707, 8.18552036, 8.61847988,\n",
       "       8.04526749, 8.18552036, 8.18552036, 8.18552036, 7.67292912,\n",
       "       7.67292912, 8.18552036, 8.04526749, 6.8625    , 8.18552036,\n",
       "       6.8625    , 8.61847988, 7.67292912, 7.28571429, 8.61847988,\n",
       "       7.67292912, 8.18552036, 8.18552036, 8.61847988, 8.18552036,\n",
       "       7.13888889, 7.67292912, 7.70422535, 8.61847988, 8.61847988,\n",
       "       7.67292912, 8.18552036, 7.67292912, 7.31222707, 7.67292912,\n",
       "       7.67292912, 7.67292912, 7.28571429, 8.61847988, 8.28      ,\n",
       "       7.67292912, 7.67292912, 7.67292912, 8.61847988, 8.18552036,\n",
       "       8.18552036, 8.61847988, 7.67292912, 8.18552036, 8.61847988,\n",
       "       8.18552036, 7.70422535, 7.67292912, 8.28      , 7.13888889,\n",
       "       8.61847988, 8.61847988, 8.18552036, 7.67292912, 7.31222707,\n",
       "       8.61847988, 7.67292912, 8.61847988, 8.61847988, 8.61847988,\n",
       "       8.18552036, 8.18552036, 8.04526749, 7.67292912, 8.61847988,\n",
       "       8.18552036, 7.67292912, 8.61847988, 8.61847988, 7.67292912,\n",
       "       8.18552036, 8.04526749, 8.04526749, 8.61847988, 8.61847988,\n",
       "       8.18552036, 7.67292912, 7.31222707, 8.04526749, 8.61847988,\n",
       "       8.61847988, 7.13888889, 8.61847988, 8.61847988, 8.61847988,\n",
       "       8.61847988, 7.31222707, 7.13888889, 8.61847988, 8.18552036,\n",
       "       8.18552036, 8.18552036, 7.31222707, 8.18552036, 7.31222707,\n",
       "       7.31222707, 8.61847988, 7.67292912, 8.18552036, 8.61847988,\n",
       "       8.61847988, 8.61847988, 8.61847988, 8.18552036, 8.61847988,\n",
       "       7.67292912, 8.61847988, 7.67292912, 7.67292912, 8.61847988,\n",
       "       8.61847988, 7.13888889, 8.18552036, 8.18552036, 8.61847988,\n",
       "       7.67292912, 8.18552036, 8.18552036, 8.61847988, 7.67292912,\n",
       "       7.67292912, 8.61847988, 8.18552036, 8.18552036, 7.67292912,\n",
       "       8.61847988, 8.18552036, 7.31222707, 8.61847988, 8.61847988,\n",
       "       8.18552036, 7.67292912, 7.67292912, 8.18552036, 8.28      ,\n",
       "       8.18552036, 8.28      , 7.67292912, 8.04526749, 8.04526749,\n",
       "       7.67292912, 8.61847988, 8.61847988, 8.04526749, 8.28      ,\n",
       "       7.67292912, 7.67292912, 7.67292912, 8.18552036, 7.31222707,\n",
       "       8.61847988, 8.18552036, 8.61847988, 7.13888889, 7.67292912,\n",
       "       7.67292912, 8.04526749, 7.31222707, 8.04526749, 8.61847988,\n",
       "       8.18552036, 8.18552036, 7.31222707, 7.67292912, 7.31222707,\n",
       "       7.67292912, 8.18552036, 7.67292912, 8.04526749, 8.61847988,\n",
       "       7.67292912, 8.18552036, 7.13888889, 8.61847988, 7.67292912,\n",
       "       8.61847988, 8.18552036, 8.18552036, 7.67292912, 7.67292912,\n",
       "       7.67292912, 6.8625    , 8.18552036, 8.18552036, 8.61847988,\n",
       "       7.67292912, 7.70422535, 8.61847988, 8.61847988, 8.61847988,\n",
       "       8.04526749, 8.61847988, 7.67292912, 7.31222707, 8.61847988,\n",
       "       7.67292912, 7.67292912, 8.18552036, 7.67292912, 8.61847988,\n",
       "       7.67292912, 7.67292912, 7.28571429, 8.18552036, 8.61847988,\n",
       "       8.61847988, 8.61847988, 8.61847988, 7.31222707, 8.61847988,\n",
       "       7.31222707, 7.31222707, 8.61847988, 8.04526749, 8.04526749,\n",
       "       7.67292912, 7.67292912, 7.67292912, 8.04526749, 7.67292912,\n",
       "       7.28571429, 8.61847988, 7.67292912, 7.67292912, 8.04526749,\n",
       "       7.67292912, 7.67292912, 8.28      , 8.18552036, 8.04526749,\n",
       "       7.67292912, 7.70422535, 8.18552036, 7.67292912, 8.18552036,\n",
       "       7.67292912, 8.04526749, 7.67292912, 7.31222707, 8.18552036,\n",
       "       8.61847988, 8.18552036, 8.61847988, 7.67292912, 7.67292912,\n",
       "       7.31222707, 7.31222707, 7.31222707, 7.67292912, 7.67292912,\n",
       "       7.67292912, 8.04526749, 8.04526749, 7.67292912, 7.67292912,\n",
       "       8.61847988, 7.67292912, 7.31222707, 7.31222707, 8.61847988,\n",
       "       7.67292912, 6.        , 8.61847988, 8.61847988, 7.67292912,\n",
       "       8.61847988, 7.67292912, 7.31222707, 8.18552036, 7.67292912,\n",
       "       8.18552036, 8.61847988, 8.18552036, 8.61847988, 7.67292912,\n",
       "       7.31222707, 7.67292912, 7.67292912, 8.18552036, 8.61847988,\n",
       "       8.61847988, 8.61847988, 8.18552036, 8.04526749, 7.67292912,\n",
       "       8.18552036, 7.67292912, 7.31222707, 7.31222707, 8.18552036,\n",
       "       8.18552036, 8.18552036, 8.18552036, 8.18552036, 7.67292912,\n",
       "       7.67292912, 7.67292912, 7.67292912, 7.67292912, 7.67292912,\n",
       "       7.67292912, 7.67292912, 7.70422535, 8.61847988, 7.31222707,\n",
       "       8.18552036, 7.31222707, 7.31222707, 7.67292912, 8.18552036,\n",
       "       8.18552036, 8.61847988, 7.67292912, 7.31222707, 8.61847988,\n",
       "       7.67292912, 8.61847988, 7.67292912, 8.18552036, 8.18552036,\n",
       "       8.18552036, 7.67292912, 8.61847988, 7.67292912, 8.18552036,\n",
       "       8.61847988, 8.61847988, 8.18552036, 8.61847988, 8.18552036,\n",
       "       8.61847988, 6.        , 8.18552036, 8.18552036, 8.61847988,\n",
       "       8.61847988, 8.04526749, 8.61847988, 8.61847988, 8.04526749,\n",
       "       8.04526749, 7.67292912, 8.61847988, 7.67292912, 8.04526749,\n",
       "       8.04526749, 8.04526749, 8.18552036, 7.67292912, 6.8625    ,\n",
       "       8.61847988, 7.31222707, 8.04526749, 7.67292912, 7.67292912,\n",
       "       8.61847988, 8.61847988, 8.61847988, 7.67292912, 8.61847988,\n",
       "       7.31222707, 8.18552036, 8.28      , 7.67292912, 8.61847988,\n",
       "       8.18552036, 8.61847988, 7.31222707, 8.18552036, 7.67292912,\n",
       "       7.67292912, 7.67292912, 8.18552036, 7.31222707, 8.61847988,\n",
       "       7.28571429, 7.67292912, 8.61847988, 8.18552036, 6.8625    ,\n",
       "       7.31222707, 8.18552036, 7.31222707, 8.61847988, 8.61847988,\n",
       "       8.61847988, 5.28676471, 5.28676471, 5.53333333, 5.28676471,\n",
       "       5.64705882, 5.28676471, 5.152     , 5.152     , 5.52586207,\n",
       "       5.64705882, 5.64705882, 5.152     , 6.22962963, 5.92      ,\n",
       "       5.152     , 5.92      , 6.76923077, 6.76923077, 5.152     ,\n",
       "       6.22962963, 6.22962963, 5.28676471, 5.92      , 5.28676471,\n",
       "       5.28676471, 6.76923077, 6.22962963, 5.92      , 6.22962963,\n",
       "       5.53333333, 5.92      , 5.28676471, 5.52586207, 4.98630137,\n",
       "       5.64705882, 4.98630137, 6.33333333, 6.22962963, 6.22962963,\n",
       "       5.53333333, 4.98630137, 5.82222222, 6.22962963, 6.22962963,\n",
       "       6.76923077, 5.52586207, 6.33333333, 6.22962963, 5.28676471,\n",
       "       6.33333333, 4.98630137, 5.52586207, 5.28676471, 5.63333333,\n",
       "       6.76923077, 5.64705882, 6.22962963, 5.64705882, 5.28676471,\n",
       "       4.6       , 5.52586207, 5.52586207, 5.53333333, 4.98630137,\n",
       "       6.76923077, 5.28676471, 5.28676471, 4.98630137, 5.28676471,\n",
       "       4.98630137, 6.25      , 4.6       , 5.28676471])"
      ]
     },
     "metadata": {},
     "execution_count": 18
    }
   ],
   "source": [
    "prediction_array_dt_cookies2"
   ]
  },
  {
   "cell_type": "code",
   "execution_count": 17,
   "metadata": {},
   "outputs": [],
   "source": [
    "np.savetxt('dt_cookies2_array.csv', prediction_array_dt_cookies2, delimiter=',')"
   ]
  },
  {
   "source": [
    "## Random Forest"
   ],
   "cell_type": "markdown",
   "metadata": {}
  },
  {
   "cell_type": "code",
   "execution_count": 11,
   "metadata": {},
   "outputs": [],
   "source": [
    "grid_rf = GridSearchCV(estimator = RandomForestRegressor(), param_grid= {\"n_estimators\":(list(range(175,401,25))), \"max_depth\":list(range(10,21)), 'criterion': [\"mse\", \"mae\"], 'max_features':['auto','sqrt', \"log2\"]})"
   ]
  },
  {
   "cell_type": "code",
   "execution_count": 20,
   "metadata": {},
   "outputs": [
    {
     "output_type": "error",
     "ename": "NameError",
     "evalue": "name 'grid_dt' is not defined",
     "traceback": [
      "\u001b[1;31m---------------------------------------------------------------------------\u001b[0m",
      "\u001b[1;31mNameError\u001b[0m                                 Traceback (most recent call last)",
      "\u001b[1;32m<ipython-input-20-c9c40d21acf6>\u001b[0m in \u001b[0;36m<module>\u001b[1;34m\u001b[0m\n\u001b[1;32m----> 1\u001b[1;33m \u001b[0mgrid_dt\u001b[0m\u001b[1;33m.\u001b[0m\u001b[0mfit\u001b[0m\u001b[1;33m(\u001b[0m\u001b[0mX_train_scaled\u001b[0m\u001b[1;33m,\u001b[0m \u001b[0my_train\u001b[0m\u001b[1;33m)\u001b[0m\u001b[1;33m\u001b[0m\u001b[1;33m\u001b[0m\u001b[0m\n\u001b[0m",
      "\u001b[1;31mNameError\u001b[0m: name 'grid_dt' is not defined"
     ]
    }
   ],
   "source": [
    "grid_rf.fit(X_train_scaled, y_train)\n"
   ]
  },
  {
   "cell_type": "code",
   "execution_count": null,
   "metadata": {},
   "outputs": [],
   "source": [
    "grid_rf.best_params_"
   ]
  },
  {
   "cell_type": "code",
   "execution_count": null,
   "metadata": {},
   "outputs": [],
   "source": [
    "y_pred_test_rf = grid_rf.predict(X_test_scaled)"
   ]
  },
  {
   "cell_type": "code",
   "execution_count": null,
   "metadata": {},
   "outputs": [],
   "source": [
    "prediction_array_rf_cookies2 = y_pred_test_rf"
   ]
  },
  {
   "cell_type": "code",
   "execution_count": null,
   "metadata": {},
   "outputs": [],
   "source": [
    "np.savetxt('rf_cookies2_array.csv', prediction_array_rf_cookies2, delimiter=',')"
   ]
  }
 ]
}