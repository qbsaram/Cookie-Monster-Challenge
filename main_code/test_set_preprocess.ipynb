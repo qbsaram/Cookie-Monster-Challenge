{
 "metadata": {
  "language_info": {
   "codemirror_mode": {
    "name": "ipython",
    "version": 3
   },
   "file_extension": ".py",
   "mimetype": "text/x-python",
   "name": "python",
   "nbconvert_exporter": "python",
   "pygments_lexer": "ipython3",
   "version": "3.8.8"
  },
  "orig_nbformat": 4,
  "kernelspec": {
   "name": "python3",
   "display_name": "Python 3.8.8 64-bit ('base': conda)"
  },
  "interpreter": {
   "hash": "05b3b62c7789db94d00c942f2499dd9a2876ea971fd9b7cf25c50892de6c631c"
  }
 },
 "nbformat": 4,
 "nbformat_minor": 2,
 "cells": [
  {
   "cell_type": "code",
   "execution_count": 2,
   "metadata": {},
   "outputs": [],
   "source": [
    "import pandas as pd\n",
    "import numpy as np\n",
    "import matplotlib.pyplot as plt\n",
    "import seaborn as sns"
   ]
  },
  {
   "cell_type": "code",
   "execution_count": 3,
   "metadata": {},
   "outputs": [],
   "source": [
    "cookies_test = pd.read_csv(\"../data/cookies_validate.csv\")"
   ]
  },
  {
   "cell_type": "code",
   "execution_count": 4,
   "metadata": {},
   "outputs": [
    {
     "output_type": "execute_result",
     "data": {
      "text/plain": [
       "       id  sugar to flour ratio  sugar index  bake temp  chill time  calories  \\\n",
       "0      14                  0.62        19.25      400.0        41.0     172.0   \n",
       "1      26                  0.35         1.00      520.0        35.0     146.0   \n",
       "2      30                  0.39        10.40      440.0        20.0     142.0   \n",
       "3      52                  0.33         1.10      570.0        21.0      82.0   \n",
       "4     100                  0.37        13.50      600.0        52.0     192.0   \n",
       "..    ...                   ...          ...        ...         ...       ...   \n",
       "774  1442                  0.02         1.90      780.0        18.0      30.0   \n",
       "775  1445                  0.19         5.20      940.0        19.0      98.0   \n",
       "776  1461                  0.00         2.10      600.0         6.0      13.0   \n",
       "777  1467                  0.08         2.30      670.0        19.0      32.0   \n",
       "778  1474                  0.50        13.80     2050.0        48.0      82.0   \n",
       "\n",
       "     density    pH  grams baking soda  bake time  quality butter type  weight  \\\n",
       "0    1.00020  7.98               0.67        9.7        0      melted    16.6   \n",
       "1    0.99300  8.45               0.44       10.0        0      melted    13.8   \n",
       "2    0.99740  8.20               0.53       10.0        0      melted    17.0   \n",
       "3    0.99100  8.32               0.46       10.9        0      melted    12.4   \n",
       "4    0.99750  8.00               0.44        9.1        0      melted    14.8   \n",
       "..       ...   ...                ...        ...      ...         ...     ...   \n",
       "774  0.99712  8.40               0.75        9.8        0       cubed    13.8   \n",
       "775  0.99713  8.16               0.52        9.6        0       cubed    14.8   \n",
       "776  0.99664  8.59               0.61       10.0        0       cubed    12.4   \n",
       "777  0.99648  8.52               0.57       11.0        0       cubed    13.4   \n",
       "778  1.00242  8.16               0.75        8.8        0       cubed    19.8   \n",
       "\n",
       "     diameter                 mixins  crunch factor  aesthetic appeal  \n",
       "0           7        nuts, chocolate           1.85                 3  \n",
       "1           7              chocolate           1.43                 3  \n",
       "2           7              chocolate           1.57                 3  \n",
       "3           7        chocolate, oats           1.44                 3  \n",
       "4           7              chocolate           1.51                 3  \n",
       "..        ...                    ...            ...               ...  \n",
       "774         7  nuts, oats, chocolate           1.01                 3  \n",
       "775         7             nuts, oats           1.68                 3  \n",
       "776         7             nuts, oats           1.38                 3  \n",
       "777         7          peanut butter           1.63                 3  \n",
       "778         7           nuts,raisins           1.90                 3  \n",
       "\n",
       "[779 rows x 17 columns]"
      ],
      "text/html": "<div>\n<style scoped>\n    .dataframe tbody tr th:only-of-type {\n        vertical-align: middle;\n    }\n\n    .dataframe tbody tr th {\n        vertical-align: top;\n    }\n\n    .dataframe thead th {\n        text-align: right;\n    }\n</style>\n<table border=\"1\" class=\"dataframe\">\n  <thead>\n    <tr style=\"text-align: right;\">\n      <th></th>\n      <th>id</th>\n      <th>sugar to flour ratio</th>\n      <th>sugar index</th>\n      <th>bake temp</th>\n      <th>chill time</th>\n      <th>calories</th>\n      <th>density</th>\n      <th>pH</th>\n      <th>grams baking soda</th>\n      <th>bake time</th>\n      <th>quality</th>\n      <th>butter type</th>\n      <th>weight</th>\n      <th>diameter</th>\n      <th>mixins</th>\n      <th>crunch factor</th>\n      <th>aesthetic appeal</th>\n    </tr>\n  </thead>\n  <tbody>\n    <tr>\n      <th>0</th>\n      <td>14</td>\n      <td>0.62</td>\n      <td>19.25</td>\n      <td>400.0</td>\n      <td>41.0</td>\n      <td>172.0</td>\n      <td>1.00020</td>\n      <td>7.98</td>\n      <td>0.67</td>\n      <td>9.7</td>\n      <td>0</td>\n      <td>melted</td>\n      <td>16.6</td>\n      <td>7</td>\n      <td>nuts, chocolate</td>\n      <td>1.85</td>\n      <td>3</td>\n    </tr>\n    <tr>\n      <th>1</th>\n      <td>26</td>\n      <td>0.35</td>\n      <td>1.00</td>\n      <td>520.0</td>\n      <td>35.0</td>\n      <td>146.0</td>\n      <td>0.99300</td>\n      <td>8.45</td>\n      <td>0.44</td>\n      <td>10.0</td>\n      <td>0</td>\n      <td>melted</td>\n      <td>13.8</td>\n      <td>7</td>\n      <td>chocolate</td>\n      <td>1.43</td>\n      <td>3</td>\n    </tr>\n    <tr>\n      <th>2</th>\n      <td>30</td>\n      <td>0.39</td>\n      <td>10.40</td>\n      <td>440.0</td>\n      <td>20.0</td>\n      <td>142.0</td>\n      <td>0.99740</td>\n      <td>8.20</td>\n      <td>0.53</td>\n      <td>10.0</td>\n      <td>0</td>\n      <td>melted</td>\n      <td>17.0</td>\n      <td>7</td>\n      <td>chocolate</td>\n      <td>1.57</td>\n      <td>3</td>\n    </tr>\n    <tr>\n      <th>3</th>\n      <td>52</td>\n      <td>0.33</td>\n      <td>1.10</td>\n      <td>570.0</td>\n      <td>21.0</td>\n      <td>82.0</td>\n      <td>0.99100</td>\n      <td>8.32</td>\n      <td>0.46</td>\n      <td>10.9</td>\n      <td>0</td>\n      <td>melted</td>\n      <td>12.4</td>\n      <td>7</td>\n      <td>chocolate, oats</td>\n      <td>1.44</td>\n      <td>3</td>\n    </tr>\n    <tr>\n      <th>4</th>\n      <td>100</td>\n      <td>0.37</td>\n      <td>13.50</td>\n      <td>600.0</td>\n      <td>52.0</td>\n      <td>192.0</td>\n      <td>0.99750</td>\n      <td>8.00</td>\n      <td>0.44</td>\n      <td>9.1</td>\n      <td>0</td>\n      <td>melted</td>\n      <td>14.8</td>\n      <td>7</td>\n      <td>chocolate</td>\n      <td>1.51</td>\n      <td>3</td>\n    </tr>\n    <tr>\n      <th>...</th>\n      <td>...</td>\n      <td>...</td>\n      <td>...</td>\n      <td>...</td>\n      <td>...</td>\n      <td>...</td>\n      <td>...</td>\n      <td>...</td>\n      <td>...</td>\n      <td>...</td>\n      <td>...</td>\n      <td>...</td>\n      <td>...</td>\n      <td>...</td>\n      <td>...</td>\n      <td>...</td>\n      <td>...</td>\n    </tr>\n    <tr>\n      <th>774</th>\n      <td>1442</td>\n      <td>0.02</td>\n      <td>1.90</td>\n      <td>780.0</td>\n      <td>18.0</td>\n      <td>30.0</td>\n      <td>0.99712</td>\n      <td>8.40</td>\n      <td>0.75</td>\n      <td>9.8</td>\n      <td>0</td>\n      <td>cubed</td>\n      <td>13.8</td>\n      <td>7</td>\n      <td>nuts, oats, chocolate</td>\n      <td>1.01</td>\n      <td>3</td>\n    </tr>\n    <tr>\n      <th>775</th>\n      <td>1445</td>\n      <td>0.19</td>\n      <td>5.20</td>\n      <td>940.0</td>\n      <td>19.0</td>\n      <td>98.0</td>\n      <td>0.99713</td>\n      <td>8.16</td>\n      <td>0.52</td>\n      <td>9.6</td>\n      <td>0</td>\n      <td>cubed</td>\n      <td>14.8</td>\n      <td>7</td>\n      <td>nuts, oats</td>\n      <td>1.68</td>\n      <td>3</td>\n    </tr>\n    <tr>\n      <th>776</th>\n      <td>1461</td>\n      <td>0.00</td>\n      <td>2.10</td>\n      <td>600.0</td>\n      <td>6.0</td>\n      <td>13.0</td>\n      <td>0.99664</td>\n      <td>8.59</td>\n      <td>0.61</td>\n      <td>10.0</td>\n      <td>0</td>\n      <td>cubed</td>\n      <td>12.4</td>\n      <td>7</td>\n      <td>nuts, oats</td>\n      <td>1.38</td>\n      <td>3</td>\n    </tr>\n    <tr>\n      <th>777</th>\n      <td>1467</td>\n      <td>0.08</td>\n      <td>2.30</td>\n      <td>670.0</td>\n      <td>19.0</td>\n      <td>32.0</td>\n      <td>0.99648</td>\n      <td>8.52</td>\n      <td>0.57</td>\n      <td>11.0</td>\n      <td>0</td>\n      <td>cubed</td>\n      <td>13.4</td>\n      <td>7</td>\n      <td>peanut butter</td>\n      <td>1.63</td>\n      <td>3</td>\n    </tr>\n    <tr>\n      <th>778</th>\n      <td>1474</td>\n      <td>0.50</td>\n      <td>13.80</td>\n      <td>2050.0</td>\n      <td>48.0</td>\n      <td>82.0</td>\n      <td>1.00242</td>\n      <td>8.16</td>\n      <td>0.75</td>\n      <td>8.8</td>\n      <td>0</td>\n      <td>cubed</td>\n      <td>19.8</td>\n      <td>7</td>\n      <td>nuts,raisins</td>\n      <td>1.90</td>\n      <td>3</td>\n    </tr>\n  </tbody>\n</table>\n<p>779 rows × 17 columns</p>\n</div>"
     },
     "metadata": {},
     "execution_count": 4
    }
   ],
   "source": [
    "cookies_test"
   ]
  },
  {
   "cell_type": "code",
   "execution_count": 5,
   "metadata": {},
   "outputs": [
    {
     "output_type": "execute_result",
     "data": {
      "text/plain": [
       "      chocolate   oats   peanut butter  chocolate  nuts  peanut butter  \\\n",
       "0             1      0               0          0     1              0   \n",
       "1             0      0               0          1     0              0   \n",
       "2             0      0               0          1     0              0   \n",
       "3             0      1               0          1     0              0   \n",
       "4             0      0               0          1     0              0   \n",
       "..          ...    ...             ...        ...   ...            ...   \n",
       "774           1      1               0          0     1              0   \n",
       "775           0      1               0          0     1              0   \n",
       "776           0      1               0          0     1              0   \n",
       "777           0      0               0          0     0              1   \n",
       "778           0      0               0          0     1              0   \n",
       "\n",
       "     raisins  \n",
       "0          0  \n",
       "1          0  \n",
       "2          0  \n",
       "3          0  \n",
       "4          0  \n",
       "..       ...  \n",
       "774        0  \n",
       "775        0  \n",
       "776        0  \n",
       "777        0  \n",
       "778        1  \n",
       "\n",
       "[779 rows x 7 columns]"
      ],
      "text/html": "<div>\n<style scoped>\n    .dataframe tbody tr th:only-of-type {\n        vertical-align: middle;\n    }\n\n    .dataframe tbody tr th {\n        vertical-align: top;\n    }\n\n    .dataframe thead th {\n        text-align: right;\n    }\n</style>\n<table border=\"1\" class=\"dataframe\">\n  <thead>\n    <tr style=\"text-align: right;\">\n      <th></th>\n      <th>chocolate</th>\n      <th>oats</th>\n      <th>peanut butter</th>\n      <th>chocolate</th>\n      <th>nuts</th>\n      <th>peanut butter</th>\n      <th>raisins</th>\n    </tr>\n  </thead>\n  <tbody>\n    <tr>\n      <th>0</th>\n      <td>1</td>\n      <td>0</td>\n      <td>0</td>\n      <td>0</td>\n      <td>1</td>\n      <td>0</td>\n      <td>0</td>\n    </tr>\n    <tr>\n      <th>1</th>\n      <td>0</td>\n      <td>0</td>\n      <td>0</td>\n      <td>1</td>\n      <td>0</td>\n      <td>0</td>\n      <td>0</td>\n    </tr>\n    <tr>\n      <th>2</th>\n      <td>0</td>\n      <td>0</td>\n      <td>0</td>\n      <td>1</td>\n      <td>0</td>\n      <td>0</td>\n      <td>0</td>\n    </tr>\n    <tr>\n      <th>3</th>\n      <td>0</td>\n      <td>1</td>\n      <td>0</td>\n      <td>1</td>\n      <td>0</td>\n      <td>0</td>\n      <td>0</td>\n    </tr>\n    <tr>\n      <th>4</th>\n      <td>0</td>\n      <td>0</td>\n      <td>0</td>\n      <td>1</td>\n      <td>0</td>\n      <td>0</td>\n      <td>0</td>\n    </tr>\n    <tr>\n      <th>...</th>\n      <td>...</td>\n      <td>...</td>\n      <td>...</td>\n      <td>...</td>\n      <td>...</td>\n      <td>...</td>\n      <td>...</td>\n    </tr>\n    <tr>\n      <th>774</th>\n      <td>1</td>\n      <td>1</td>\n      <td>0</td>\n      <td>0</td>\n      <td>1</td>\n      <td>0</td>\n      <td>0</td>\n    </tr>\n    <tr>\n      <th>775</th>\n      <td>0</td>\n      <td>1</td>\n      <td>0</td>\n      <td>0</td>\n      <td>1</td>\n      <td>0</td>\n      <td>0</td>\n    </tr>\n    <tr>\n      <th>776</th>\n      <td>0</td>\n      <td>1</td>\n      <td>0</td>\n      <td>0</td>\n      <td>1</td>\n      <td>0</td>\n      <td>0</td>\n    </tr>\n    <tr>\n      <th>777</th>\n      <td>0</td>\n      <td>0</td>\n      <td>0</td>\n      <td>0</td>\n      <td>0</td>\n      <td>1</td>\n      <td>0</td>\n    </tr>\n    <tr>\n      <th>778</th>\n      <td>0</td>\n      <td>0</td>\n      <td>0</td>\n      <td>0</td>\n      <td>1</td>\n      <td>0</td>\n      <td>1</td>\n    </tr>\n  </tbody>\n</table>\n<p>779 rows × 7 columns</p>\n</div>"
     },
     "metadata": {},
     "execution_count": 5
    }
   ],
   "source": [
    "# getting dummies for one hot encoding, however some columns are named the same\n",
    "dummie_test = cookies_test['mixins'].str.get_dummies(sep=',')\n",
    "dummie_test"
   ]
  },
  {
   "cell_type": "code",
   "execution_count": 6,
   "metadata": {},
   "outputs": [],
   "source": [
    "#renaming all columns\n",
    "dummie_test.columns = [\"chocolate\", \"oats\", \"peanut butter\", \"chocolate_2\", \"nuts\", \"peanut butter_2\", \"raisins\"]"
   ]
  },
  {
   "cell_type": "code",
   "execution_count": 7,
   "metadata": {},
   "outputs": [
    {
     "output_type": "execute_result",
     "data": {
      "text/plain": [
       "     chocolate  oats  peanut butter  chocolate_2  nuts  peanut butter_2  \\\n",
       "0            1     0              0            0     1                0   \n",
       "1            0     0              0            1     0                0   \n",
       "2            0     0              0            1     0                0   \n",
       "3            0     1              0            1     0                0   \n",
       "4            0     0              0            1     0                0   \n",
       "..         ...   ...            ...          ...   ...              ...   \n",
       "774          1     1              0            0     1                0   \n",
       "775          0     1              0            0     1                0   \n",
       "776          0     1              0            0     1                0   \n",
       "777          0     0              0            0     0                1   \n",
       "778          0     0              0            0     1                0   \n",
       "\n",
       "     raisins  \n",
       "0          0  \n",
       "1          0  \n",
       "2          0  \n",
       "3          0  \n",
       "4          0  \n",
       "..       ...  \n",
       "774        0  \n",
       "775        0  \n",
       "776        0  \n",
       "777        0  \n",
       "778        1  \n",
       "\n",
       "[779 rows x 7 columns]"
      ],
      "text/html": "<div>\n<style scoped>\n    .dataframe tbody tr th:only-of-type {\n        vertical-align: middle;\n    }\n\n    .dataframe tbody tr th {\n        vertical-align: top;\n    }\n\n    .dataframe thead th {\n        text-align: right;\n    }\n</style>\n<table border=\"1\" class=\"dataframe\">\n  <thead>\n    <tr style=\"text-align: right;\">\n      <th></th>\n      <th>chocolate</th>\n      <th>oats</th>\n      <th>peanut butter</th>\n      <th>chocolate_2</th>\n      <th>nuts</th>\n      <th>peanut butter_2</th>\n      <th>raisins</th>\n    </tr>\n  </thead>\n  <tbody>\n    <tr>\n      <th>0</th>\n      <td>1</td>\n      <td>0</td>\n      <td>0</td>\n      <td>0</td>\n      <td>1</td>\n      <td>0</td>\n      <td>0</td>\n    </tr>\n    <tr>\n      <th>1</th>\n      <td>0</td>\n      <td>0</td>\n      <td>0</td>\n      <td>1</td>\n      <td>0</td>\n      <td>0</td>\n      <td>0</td>\n    </tr>\n    <tr>\n      <th>2</th>\n      <td>0</td>\n      <td>0</td>\n      <td>0</td>\n      <td>1</td>\n      <td>0</td>\n      <td>0</td>\n      <td>0</td>\n    </tr>\n    <tr>\n      <th>3</th>\n      <td>0</td>\n      <td>1</td>\n      <td>0</td>\n      <td>1</td>\n      <td>0</td>\n      <td>0</td>\n      <td>0</td>\n    </tr>\n    <tr>\n      <th>4</th>\n      <td>0</td>\n      <td>0</td>\n      <td>0</td>\n      <td>1</td>\n      <td>0</td>\n      <td>0</td>\n      <td>0</td>\n    </tr>\n    <tr>\n      <th>...</th>\n      <td>...</td>\n      <td>...</td>\n      <td>...</td>\n      <td>...</td>\n      <td>...</td>\n      <td>...</td>\n      <td>...</td>\n    </tr>\n    <tr>\n      <th>774</th>\n      <td>1</td>\n      <td>1</td>\n      <td>0</td>\n      <td>0</td>\n      <td>1</td>\n      <td>0</td>\n      <td>0</td>\n    </tr>\n    <tr>\n      <th>775</th>\n      <td>0</td>\n      <td>1</td>\n      <td>0</td>\n      <td>0</td>\n      <td>1</td>\n      <td>0</td>\n      <td>0</td>\n    </tr>\n    <tr>\n      <th>776</th>\n      <td>0</td>\n      <td>1</td>\n      <td>0</td>\n      <td>0</td>\n      <td>1</td>\n      <td>0</td>\n      <td>0</td>\n    </tr>\n    <tr>\n      <th>777</th>\n      <td>0</td>\n      <td>0</td>\n      <td>0</td>\n      <td>0</td>\n      <td>0</td>\n      <td>1</td>\n      <td>0</td>\n    </tr>\n    <tr>\n      <th>778</th>\n      <td>0</td>\n      <td>0</td>\n      <td>0</td>\n      <td>0</td>\n      <td>1</td>\n      <td>0</td>\n      <td>1</td>\n    </tr>\n  </tbody>\n</table>\n<p>779 rows × 7 columns</p>\n</div>"
     },
     "metadata": {},
     "execution_count": 7
    }
   ],
   "source": [
    "dummie_test"
   ]
  },
  {
   "cell_type": "code",
   "execution_count": 8,
   "metadata": {},
   "outputs": [],
   "source": [
    "#adding the columns that have the same ingredient\n",
    "dummie_test[\"chocolate\"] = dummie_test[\"chocolate\"] + dummie_test[\"chocolate_2\"]\n",
    "dummie_test[\"peanut butter\"] = dummie_test[\"peanut butter\"] + dummie_test[\"peanut butter_2\"]"
   ]
  },
  {
   "cell_type": "code",
   "execution_count": 9,
   "metadata": {},
   "outputs": [],
   "source": [
    "dummie_test.drop([\"chocolate_2\", \"peanut butter_2\"], axis=1, inplace=True)"
   ]
  },
  {
   "cell_type": "code",
   "execution_count": 10,
   "metadata": {},
   "outputs": [
    {
     "output_type": "execute_result",
     "data": {
      "text/plain": [
       "     chocolate  oats  peanut butter  nuts  raisins\n",
       "0            1     0              0     1        0\n",
       "1            1     0              0     0        0\n",
       "2            1     0              0     0        0\n",
       "3            1     1              0     0        0\n",
       "4            1     0              0     0        0\n",
       "..         ...   ...            ...   ...      ...\n",
       "774          1     1              0     1        0\n",
       "775          0     1              0     1        0\n",
       "776          0     1              0     1        0\n",
       "777          0     0              1     0        0\n",
       "778          0     0              0     1        1\n",
       "\n",
       "[779 rows x 5 columns]"
      ],
      "text/html": "<div>\n<style scoped>\n    .dataframe tbody tr th:only-of-type {\n        vertical-align: middle;\n    }\n\n    .dataframe tbody tr th {\n        vertical-align: top;\n    }\n\n    .dataframe thead th {\n        text-align: right;\n    }\n</style>\n<table border=\"1\" class=\"dataframe\">\n  <thead>\n    <tr style=\"text-align: right;\">\n      <th></th>\n      <th>chocolate</th>\n      <th>oats</th>\n      <th>peanut butter</th>\n      <th>nuts</th>\n      <th>raisins</th>\n    </tr>\n  </thead>\n  <tbody>\n    <tr>\n      <th>0</th>\n      <td>1</td>\n      <td>0</td>\n      <td>0</td>\n      <td>1</td>\n      <td>0</td>\n    </tr>\n    <tr>\n      <th>1</th>\n      <td>1</td>\n      <td>0</td>\n      <td>0</td>\n      <td>0</td>\n      <td>0</td>\n    </tr>\n    <tr>\n      <th>2</th>\n      <td>1</td>\n      <td>0</td>\n      <td>0</td>\n      <td>0</td>\n      <td>0</td>\n    </tr>\n    <tr>\n      <th>3</th>\n      <td>1</td>\n      <td>1</td>\n      <td>0</td>\n      <td>0</td>\n      <td>0</td>\n    </tr>\n    <tr>\n      <th>4</th>\n      <td>1</td>\n      <td>0</td>\n      <td>0</td>\n      <td>0</td>\n      <td>0</td>\n    </tr>\n    <tr>\n      <th>...</th>\n      <td>...</td>\n      <td>...</td>\n      <td>...</td>\n      <td>...</td>\n      <td>...</td>\n    </tr>\n    <tr>\n      <th>774</th>\n      <td>1</td>\n      <td>1</td>\n      <td>0</td>\n      <td>1</td>\n      <td>0</td>\n    </tr>\n    <tr>\n      <th>775</th>\n      <td>0</td>\n      <td>1</td>\n      <td>0</td>\n      <td>1</td>\n      <td>0</td>\n    </tr>\n    <tr>\n      <th>776</th>\n      <td>0</td>\n      <td>1</td>\n      <td>0</td>\n      <td>1</td>\n      <td>0</td>\n    </tr>\n    <tr>\n      <th>777</th>\n      <td>0</td>\n      <td>0</td>\n      <td>1</td>\n      <td>0</td>\n      <td>0</td>\n    </tr>\n    <tr>\n      <th>778</th>\n      <td>0</td>\n      <td>0</td>\n      <td>0</td>\n      <td>1</td>\n      <td>1</td>\n    </tr>\n  </tbody>\n</table>\n<p>779 rows × 5 columns</p>\n</div>"
     },
     "metadata": {},
     "execution_count": 10
    }
   ],
   "source": [
    "dummie_test"
   ]
  },
  {
   "source": [
    "## Adding the new columns to cookies_test dataframe"
   ],
   "cell_type": "markdown",
   "metadata": {}
  },
  {
   "cell_type": "code",
   "execution_count": 11,
   "metadata": {},
   "outputs": [],
   "source": [
    "cookies_test = pd.concat([cookies_test, dummie_test], axis=1)"
   ]
  },
  {
   "cell_type": "code",
   "execution_count": 12,
   "metadata": {},
   "outputs": [],
   "source": [
    "cookies_test.drop([\"id\", \"mixins\"], axis=1, inplace=True)"
   ]
  },
  {
   "cell_type": "code",
   "execution_count": 13,
   "metadata": {},
   "outputs": [
    {
     "output_type": "execute_result",
     "data": {
      "text/plain": [
       "     sugar to flour ratio  sugar index  bake temp  chill time  calories  \\\n",
       "0                    0.62        19.25      400.0        41.0     172.0   \n",
       "1                    0.35         1.00      520.0        35.0     146.0   \n",
       "2                    0.39        10.40      440.0        20.0     142.0   \n",
       "3                    0.33         1.10      570.0        21.0      82.0   \n",
       "4                    0.37        13.50      600.0        52.0     192.0   \n",
       "..                    ...          ...        ...         ...       ...   \n",
       "774                  0.02         1.90      780.0        18.0      30.0   \n",
       "775                  0.19         5.20      940.0        19.0      98.0   \n",
       "776                  0.00         2.10      600.0         6.0      13.0   \n",
       "777                  0.08         2.30      670.0        19.0      32.0   \n",
       "778                  0.50        13.80     2050.0        48.0      82.0   \n",
       "\n",
       "     density    pH  grams baking soda  bake time  quality butter type  weight  \\\n",
       "0    1.00020  7.98               0.67        9.7        0      melted    16.6   \n",
       "1    0.99300  8.45               0.44       10.0        0      melted    13.8   \n",
       "2    0.99740  8.20               0.53       10.0        0      melted    17.0   \n",
       "3    0.99100  8.32               0.46       10.9        0      melted    12.4   \n",
       "4    0.99750  8.00               0.44        9.1        0      melted    14.8   \n",
       "..       ...   ...                ...        ...      ...         ...     ...   \n",
       "774  0.99712  8.40               0.75        9.8        0       cubed    13.8   \n",
       "775  0.99713  8.16               0.52        9.6        0       cubed    14.8   \n",
       "776  0.99664  8.59               0.61       10.0        0       cubed    12.4   \n",
       "777  0.99648  8.52               0.57       11.0        0       cubed    13.4   \n",
       "778  1.00242  8.16               0.75        8.8        0       cubed    19.8   \n",
       "\n",
       "     diameter  crunch factor  aesthetic appeal  chocolate  oats  \\\n",
       "0           7           1.85                 3          1     0   \n",
       "1           7           1.43                 3          1     0   \n",
       "2           7           1.57                 3          1     0   \n",
       "3           7           1.44                 3          1     1   \n",
       "4           7           1.51                 3          1     0   \n",
       "..        ...            ...               ...        ...   ...   \n",
       "774         7           1.01                 3          1     1   \n",
       "775         7           1.68                 3          0     1   \n",
       "776         7           1.38                 3          0     1   \n",
       "777         7           1.63                 3          0     0   \n",
       "778         7           1.90                 3          0     0   \n",
       "\n",
       "     peanut butter  nuts  raisins  \n",
       "0                0     1        0  \n",
       "1                0     0        0  \n",
       "2                0     0        0  \n",
       "3                0     0        0  \n",
       "4                0     0        0  \n",
       "..             ...   ...      ...  \n",
       "774              0     1        0  \n",
       "775              0     1        0  \n",
       "776              0     1        0  \n",
       "777              1     0        0  \n",
       "778              0     1        1  \n",
       "\n",
       "[779 rows x 20 columns]"
      ],
      "text/html": "<div>\n<style scoped>\n    .dataframe tbody tr th:only-of-type {\n        vertical-align: middle;\n    }\n\n    .dataframe tbody tr th {\n        vertical-align: top;\n    }\n\n    .dataframe thead th {\n        text-align: right;\n    }\n</style>\n<table border=\"1\" class=\"dataframe\">\n  <thead>\n    <tr style=\"text-align: right;\">\n      <th></th>\n      <th>sugar to flour ratio</th>\n      <th>sugar index</th>\n      <th>bake temp</th>\n      <th>chill time</th>\n      <th>calories</th>\n      <th>density</th>\n      <th>pH</th>\n      <th>grams baking soda</th>\n      <th>bake time</th>\n      <th>quality</th>\n      <th>butter type</th>\n      <th>weight</th>\n      <th>diameter</th>\n      <th>crunch factor</th>\n      <th>aesthetic appeal</th>\n      <th>chocolate</th>\n      <th>oats</th>\n      <th>peanut butter</th>\n      <th>nuts</th>\n      <th>raisins</th>\n    </tr>\n  </thead>\n  <tbody>\n    <tr>\n      <th>0</th>\n      <td>0.62</td>\n      <td>19.25</td>\n      <td>400.0</td>\n      <td>41.0</td>\n      <td>172.0</td>\n      <td>1.00020</td>\n      <td>7.98</td>\n      <td>0.67</td>\n      <td>9.7</td>\n      <td>0</td>\n      <td>melted</td>\n      <td>16.6</td>\n      <td>7</td>\n      <td>1.85</td>\n      <td>3</td>\n      <td>1</td>\n      <td>0</td>\n      <td>0</td>\n      <td>1</td>\n      <td>0</td>\n    </tr>\n    <tr>\n      <th>1</th>\n      <td>0.35</td>\n      <td>1.00</td>\n      <td>520.0</td>\n      <td>35.0</td>\n      <td>146.0</td>\n      <td>0.99300</td>\n      <td>8.45</td>\n      <td>0.44</td>\n      <td>10.0</td>\n      <td>0</td>\n      <td>melted</td>\n      <td>13.8</td>\n      <td>7</td>\n      <td>1.43</td>\n      <td>3</td>\n      <td>1</td>\n      <td>0</td>\n      <td>0</td>\n      <td>0</td>\n      <td>0</td>\n    </tr>\n    <tr>\n      <th>2</th>\n      <td>0.39</td>\n      <td>10.40</td>\n      <td>440.0</td>\n      <td>20.0</td>\n      <td>142.0</td>\n      <td>0.99740</td>\n      <td>8.20</td>\n      <td>0.53</td>\n      <td>10.0</td>\n      <td>0</td>\n      <td>melted</td>\n      <td>17.0</td>\n      <td>7</td>\n      <td>1.57</td>\n      <td>3</td>\n      <td>1</td>\n      <td>0</td>\n      <td>0</td>\n      <td>0</td>\n      <td>0</td>\n    </tr>\n    <tr>\n      <th>3</th>\n      <td>0.33</td>\n      <td>1.10</td>\n      <td>570.0</td>\n      <td>21.0</td>\n      <td>82.0</td>\n      <td>0.99100</td>\n      <td>8.32</td>\n      <td>0.46</td>\n      <td>10.9</td>\n      <td>0</td>\n      <td>melted</td>\n      <td>12.4</td>\n      <td>7</td>\n      <td>1.44</td>\n      <td>3</td>\n      <td>1</td>\n      <td>1</td>\n      <td>0</td>\n      <td>0</td>\n      <td>0</td>\n    </tr>\n    <tr>\n      <th>4</th>\n      <td>0.37</td>\n      <td>13.50</td>\n      <td>600.0</td>\n      <td>52.0</td>\n      <td>192.0</td>\n      <td>0.99750</td>\n      <td>8.00</td>\n      <td>0.44</td>\n      <td>9.1</td>\n      <td>0</td>\n      <td>melted</td>\n      <td>14.8</td>\n      <td>7</td>\n      <td>1.51</td>\n      <td>3</td>\n      <td>1</td>\n      <td>0</td>\n      <td>0</td>\n      <td>0</td>\n      <td>0</td>\n    </tr>\n    <tr>\n      <th>...</th>\n      <td>...</td>\n      <td>...</td>\n      <td>...</td>\n      <td>...</td>\n      <td>...</td>\n      <td>...</td>\n      <td>...</td>\n      <td>...</td>\n      <td>...</td>\n      <td>...</td>\n      <td>...</td>\n      <td>...</td>\n      <td>...</td>\n      <td>...</td>\n      <td>...</td>\n      <td>...</td>\n      <td>...</td>\n      <td>...</td>\n      <td>...</td>\n      <td>...</td>\n    </tr>\n    <tr>\n      <th>774</th>\n      <td>0.02</td>\n      <td>1.90</td>\n      <td>780.0</td>\n      <td>18.0</td>\n      <td>30.0</td>\n      <td>0.99712</td>\n      <td>8.40</td>\n      <td>0.75</td>\n      <td>9.8</td>\n      <td>0</td>\n      <td>cubed</td>\n      <td>13.8</td>\n      <td>7</td>\n      <td>1.01</td>\n      <td>3</td>\n      <td>1</td>\n      <td>1</td>\n      <td>0</td>\n      <td>1</td>\n      <td>0</td>\n    </tr>\n    <tr>\n      <th>775</th>\n      <td>0.19</td>\n      <td>5.20</td>\n      <td>940.0</td>\n      <td>19.0</td>\n      <td>98.0</td>\n      <td>0.99713</td>\n      <td>8.16</td>\n      <td>0.52</td>\n      <td>9.6</td>\n      <td>0</td>\n      <td>cubed</td>\n      <td>14.8</td>\n      <td>7</td>\n      <td>1.68</td>\n      <td>3</td>\n      <td>0</td>\n      <td>1</td>\n      <td>0</td>\n      <td>1</td>\n      <td>0</td>\n    </tr>\n    <tr>\n      <th>776</th>\n      <td>0.00</td>\n      <td>2.10</td>\n      <td>600.0</td>\n      <td>6.0</td>\n      <td>13.0</td>\n      <td>0.99664</td>\n      <td>8.59</td>\n      <td>0.61</td>\n      <td>10.0</td>\n      <td>0</td>\n      <td>cubed</td>\n      <td>12.4</td>\n      <td>7</td>\n      <td>1.38</td>\n      <td>3</td>\n      <td>0</td>\n      <td>1</td>\n      <td>0</td>\n      <td>1</td>\n      <td>0</td>\n    </tr>\n    <tr>\n      <th>777</th>\n      <td>0.08</td>\n      <td>2.30</td>\n      <td>670.0</td>\n      <td>19.0</td>\n      <td>32.0</td>\n      <td>0.99648</td>\n      <td>8.52</td>\n      <td>0.57</td>\n      <td>11.0</td>\n      <td>0</td>\n      <td>cubed</td>\n      <td>13.4</td>\n      <td>7</td>\n      <td>1.63</td>\n      <td>3</td>\n      <td>0</td>\n      <td>0</td>\n      <td>1</td>\n      <td>0</td>\n      <td>0</td>\n    </tr>\n    <tr>\n      <th>778</th>\n      <td>0.50</td>\n      <td>13.80</td>\n      <td>2050.0</td>\n      <td>48.0</td>\n      <td>82.0</td>\n      <td>1.00242</td>\n      <td>8.16</td>\n      <td>0.75</td>\n      <td>8.8</td>\n      <td>0</td>\n      <td>cubed</td>\n      <td>19.8</td>\n      <td>7</td>\n      <td>1.90</td>\n      <td>3</td>\n      <td>0</td>\n      <td>0</td>\n      <td>0</td>\n      <td>1</td>\n      <td>1</td>\n    </tr>\n  </tbody>\n</table>\n<p>779 rows × 20 columns</p>\n</div>"
     },
     "metadata": {},
     "execution_count": 13
    }
   ],
   "source": [
    "cookies_test"
   ]
  },
  {
   "source": [
    "## One hot encoding butter"
   ],
   "cell_type": "markdown",
   "metadata": {}
  },
  {
   "cell_type": "code",
   "execution_count": 14,
   "metadata": {},
   "outputs": [],
   "source": [
    "butter_dummie_test = cookies_test['butter type'].str.get_dummies()"
   ]
  },
  {
   "cell_type": "code",
   "execution_count": 15,
   "metadata": {},
   "outputs": [
    {
     "output_type": "execute_result",
     "data": {
      "text/plain": [
       "     cubed  melted\n",
       "0        0       1\n",
       "1        0       1\n",
       "2        0       1\n",
       "3        0       1\n",
       "4        0       1\n",
       "..     ...     ...\n",
       "774      1       0\n",
       "775      1       0\n",
       "776      1       0\n",
       "777      1       0\n",
       "778      1       0\n",
       "\n",
       "[779 rows x 2 columns]"
      ],
      "text/html": "<div>\n<style scoped>\n    .dataframe tbody tr th:only-of-type {\n        vertical-align: middle;\n    }\n\n    .dataframe tbody tr th {\n        vertical-align: top;\n    }\n\n    .dataframe thead th {\n        text-align: right;\n    }\n</style>\n<table border=\"1\" class=\"dataframe\">\n  <thead>\n    <tr style=\"text-align: right;\">\n      <th></th>\n      <th>cubed</th>\n      <th>melted</th>\n    </tr>\n  </thead>\n  <tbody>\n    <tr>\n      <th>0</th>\n      <td>0</td>\n      <td>1</td>\n    </tr>\n    <tr>\n      <th>1</th>\n      <td>0</td>\n      <td>1</td>\n    </tr>\n    <tr>\n      <th>2</th>\n      <td>0</td>\n      <td>1</td>\n    </tr>\n    <tr>\n      <th>3</th>\n      <td>0</td>\n      <td>1</td>\n    </tr>\n    <tr>\n      <th>4</th>\n      <td>0</td>\n      <td>1</td>\n    </tr>\n    <tr>\n      <th>...</th>\n      <td>...</td>\n      <td>...</td>\n    </tr>\n    <tr>\n      <th>774</th>\n      <td>1</td>\n      <td>0</td>\n    </tr>\n    <tr>\n      <th>775</th>\n      <td>1</td>\n      <td>0</td>\n    </tr>\n    <tr>\n      <th>776</th>\n      <td>1</td>\n      <td>0</td>\n    </tr>\n    <tr>\n      <th>777</th>\n      <td>1</td>\n      <td>0</td>\n    </tr>\n    <tr>\n      <th>778</th>\n      <td>1</td>\n      <td>0</td>\n    </tr>\n  </tbody>\n</table>\n<p>779 rows × 2 columns</p>\n</div>"
     },
     "metadata": {},
     "execution_count": 15
    }
   ],
   "source": [
    "butter_dummie_test"
   ]
  },
  {
   "cell_type": "code",
   "execution_count": 16,
   "metadata": {},
   "outputs": [],
   "source": [
    "cookies_test = pd.concat([cookies_test, butter_dummie_test], axis=1)"
   ]
  },
  {
   "cell_type": "code",
   "execution_count": 17,
   "metadata": {},
   "outputs": [
    {
     "output_type": "execute_result",
     "data": {
      "text/plain": [
       "   sugar to flour ratio  sugar index  bake temp  chill time  calories  \\\n",
       "0                  0.62        19.25      400.0        41.0     172.0   \n",
       "1                  0.35         1.00      520.0        35.0     146.0   \n",
       "2                  0.39        10.40      440.0        20.0     142.0   \n",
       "3                  0.33         1.10      570.0        21.0      82.0   \n",
       "4                  0.37        13.50      600.0        52.0     192.0   \n",
       "\n",
       "   density    pH  grams baking soda  bake time  quality  ... diameter  \\\n",
       "0   1.0002  7.98               0.67        9.7        0  ...        7   \n",
       "1   0.9930  8.45               0.44       10.0        0  ...        7   \n",
       "2   0.9974  8.20               0.53       10.0        0  ...        7   \n",
       "3   0.9910  8.32               0.46       10.9        0  ...        7   \n",
       "4   0.9975  8.00               0.44        9.1        0  ...        7   \n",
       "\n",
       "   crunch factor  aesthetic appeal  chocolate  oats  peanut butter  nuts  \\\n",
       "0           1.85                 3          1     0              0     1   \n",
       "1           1.43                 3          1     0              0     0   \n",
       "2           1.57                 3          1     0              0     0   \n",
       "3           1.44                 3          1     1              0     0   \n",
       "4           1.51                 3          1     0              0     0   \n",
       "\n",
       "   raisins  cubed  melted  \n",
       "0        0      0       1  \n",
       "1        0      0       1  \n",
       "2        0      0       1  \n",
       "3        0      0       1  \n",
       "4        0      0       1  \n",
       "\n",
       "[5 rows x 22 columns]"
      ],
      "text/html": "<div>\n<style scoped>\n    .dataframe tbody tr th:only-of-type {\n        vertical-align: middle;\n    }\n\n    .dataframe tbody tr th {\n        vertical-align: top;\n    }\n\n    .dataframe thead th {\n        text-align: right;\n    }\n</style>\n<table border=\"1\" class=\"dataframe\">\n  <thead>\n    <tr style=\"text-align: right;\">\n      <th></th>\n      <th>sugar to flour ratio</th>\n      <th>sugar index</th>\n      <th>bake temp</th>\n      <th>chill time</th>\n      <th>calories</th>\n      <th>density</th>\n      <th>pH</th>\n      <th>grams baking soda</th>\n      <th>bake time</th>\n      <th>quality</th>\n      <th>...</th>\n      <th>diameter</th>\n      <th>crunch factor</th>\n      <th>aesthetic appeal</th>\n      <th>chocolate</th>\n      <th>oats</th>\n      <th>peanut butter</th>\n      <th>nuts</th>\n      <th>raisins</th>\n      <th>cubed</th>\n      <th>melted</th>\n    </tr>\n  </thead>\n  <tbody>\n    <tr>\n      <th>0</th>\n      <td>0.62</td>\n      <td>19.25</td>\n      <td>400.0</td>\n      <td>41.0</td>\n      <td>172.0</td>\n      <td>1.0002</td>\n      <td>7.98</td>\n      <td>0.67</td>\n      <td>9.7</td>\n      <td>0</td>\n      <td>...</td>\n      <td>7</td>\n      <td>1.85</td>\n      <td>3</td>\n      <td>1</td>\n      <td>0</td>\n      <td>0</td>\n      <td>1</td>\n      <td>0</td>\n      <td>0</td>\n      <td>1</td>\n    </tr>\n    <tr>\n      <th>1</th>\n      <td>0.35</td>\n      <td>1.00</td>\n      <td>520.0</td>\n      <td>35.0</td>\n      <td>146.0</td>\n      <td>0.9930</td>\n      <td>8.45</td>\n      <td>0.44</td>\n      <td>10.0</td>\n      <td>0</td>\n      <td>...</td>\n      <td>7</td>\n      <td>1.43</td>\n      <td>3</td>\n      <td>1</td>\n      <td>0</td>\n      <td>0</td>\n      <td>0</td>\n      <td>0</td>\n      <td>0</td>\n      <td>1</td>\n    </tr>\n    <tr>\n      <th>2</th>\n      <td>0.39</td>\n      <td>10.40</td>\n      <td>440.0</td>\n      <td>20.0</td>\n      <td>142.0</td>\n      <td>0.9974</td>\n      <td>8.20</td>\n      <td>0.53</td>\n      <td>10.0</td>\n      <td>0</td>\n      <td>...</td>\n      <td>7</td>\n      <td>1.57</td>\n      <td>3</td>\n      <td>1</td>\n      <td>0</td>\n      <td>0</td>\n      <td>0</td>\n      <td>0</td>\n      <td>0</td>\n      <td>1</td>\n    </tr>\n    <tr>\n      <th>3</th>\n      <td>0.33</td>\n      <td>1.10</td>\n      <td>570.0</td>\n      <td>21.0</td>\n      <td>82.0</td>\n      <td>0.9910</td>\n      <td>8.32</td>\n      <td>0.46</td>\n      <td>10.9</td>\n      <td>0</td>\n      <td>...</td>\n      <td>7</td>\n      <td>1.44</td>\n      <td>3</td>\n      <td>1</td>\n      <td>1</td>\n      <td>0</td>\n      <td>0</td>\n      <td>0</td>\n      <td>0</td>\n      <td>1</td>\n    </tr>\n    <tr>\n      <th>4</th>\n      <td>0.37</td>\n      <td>13.50</td>\n      <td>600.0</td>\n      <td>52.0</td>\n      <td>192.0</td>\n      <td>0.9975</td>\n      <td>8.00</td>\n      <td>0.44</td>\n      <td>9.1</td>\n      <td>0</td>\n      <td>...</td>\n      <td>7</td>\n      <td>1.51</td>\n      <td>3</td>\n      <td>1</td>\n      <td>0</td>\n      <td>0</td>\n      <td>0</td>\n      <td>0</td>\n      <td>0</td>\n      <td>1</td>\n    </tr>\n  </tbody>\n</table>\n<p>5 rows × 22 columns</p>\n</div>"
     },
     "metadata": {},
     "execution_count": 17
    }
   ],
   "source": [
    "cookies_test.head()"
   ]
  },
  {
   "source": [
    "## finding and dropping nan values"
   ],
   "cell_type": "markdown",
   "metadata": {}
  },
  {
   "cell_type": "code",
   "execution_count": 18,
   "metadata": {},
   "outputs": [
    {
     "output_type": "execute_result",
     "data": {
      "text/plain": [
       "sugar to flour ratio    0\n",
       "sugar index             0\n",
       "bake temp               0\n",
       "chill time              0\n",
       "calories                0\n",
       "density                 0\n",
       "pH                      0\n",
       "grams baking soda       0\n",
       "bake time               0\n",
       "quality                 0\n",
       "butter type             0\n",
       "weight                  0\n",
       "diameter                0\n",
       "crunch factor           0\n",
       "aesthetic appeal        0\n",
       "chocolate               0\n",
       "oats                    0\n",
       "peanut butter           0\n",
       "nuts                    0\n",
       "raisins                 0\n",
       "cubed                   0\n",
       "melted                  0\n",
       "dtype: int64"
      ]
     },
     "metadata": {},
     "execution_count": 18
    }
   ],
   "source": [
    "cookies_test.isna().sum()"
   ]
  },
  {
   "source": [
    "## Heatmap correlation and dropping columns"
   ],
   "cell_type": "markdown",
   "metadata": {}
  },
  {
   "cell_type": "code",
   "execution_count": 19,
   "metadata": {},
   "outputs": [],
   "source": [
    "# samee as in train set, so only drop the values\n",
    "\n",
    "cookies_test.drop(['diameter'], axis = 1, inplace = True) "
   ]
  },
  {
   "cell_type": "code",
   "execution_count": 20,
   "metadata": {},
   "outputs": [],
   "source": [
    "cookies_test.drop(['aesthetic appeal'], axis = 1, inplace = True)"
   ]
  },
  {
   "cell_type": "code",
   "execution_count": 21,
   "metadata": {},
   "outputs": [],
   "source": [
    "cookies_test.drop(['butter type'], axis = 1, inplace = True)"
   ]
  },
  {
   "cell_type": "code",
   "execution_count": 22,
   "metadata": {},
   "outputs": [
    {
     "output_type": "execute_result",
     "data": {
      "text/plain": [
       "sugar to flour ratio    float64\n",
       "sugar index             float64\n",
       "bake temp               float64\n",
       "chill time              float64\n",
       "calories                float64\n",
       "density                 float64\n",
       "pH                      float64\n",
       "grams baking soda       float64\n",
       "bake time               float64\n",
       "quality                   int64\n",
       "weight                  float64\n",
       "crunch factor           float64\n",
       "chocolate                 int64\n",
       "oats                      int64\n",
       "peanut butter             int64\n",
       "nuts                      int64\n",
       "raisins                   int64\n",
       "cubed                     int64\n",
       "melted                    int64\n",
       "dtype: object"
      ]
     },
     "metadata": {},
     "execution_count": 22
    }
   ],
   "source": [
    "cookies_test.dtypes"
   ]
  },
  {
   "source": [
    "## Two dataframes for comparison"
   ],
   "cell_type": "markdown",
   "metadata": {}
  },
  {
   "cell_type": "code",
   "execution_count": null,
   "metadata": {},
   "outputs": [],
   "source": [
    "# first with all columns\n",
    "# second without density, crunch factor, pH"
   ]
  },
  {
   "cell_type": "code",
   "execution_count": 23,
   "metadata": {},
   "outputs": [],
   "source": [
    "cookies2_test = cookies_test.copy()"
   ]
  },
  {
   "cell_type": "code",
   "execution_count": 24,
   "metadata": {},
   "outputs": [],
   "source": [
    "cookies2_test.drop([\"density\", \"crunch factor\", \"pH\"], axis =1, inplace= True)"
   ]
  },
  {
   "cell_type": "code",
   "execution_count": 25,
   "metadata": {},
   "outputs": [
    {
     "output_type": "execute_result",
     "data": {
      "text/plain": [
       "     sugar to flour ratio  sugar index  bake temp  chill time  calories  \\\n",
       "0                    0.62        19.25      400.0        41.0     172.0   \n",
       "1                    0.35         1.00      520.0        35.0     146.0   \n",
       "2                    0.39        10.40      440.0        20.0     142.0   \n",
       "3                    0.33         1.10      570.0        21.0      82.0   \n",
       "4                    0.37        13.50      600.0        52.0     192.0   \n",
       "..                    ...          ...        ...         ...       ...   \n",
       "774                  0.02         1.90      780.0        18.0      30.0   \n",
       "775                  0.19         5.20      940.0        19.0      98.0   \n",
       "776                  0.00         2.10      600.0         6.0      13.0   \n",
       "777                  0.08         2.30      670.0        19.0      32.0   \n",
       "778                  0.50        13.80     2050.0        48.0      82.0   \n",
       "\n",
       "     grams baking soda  bake time  quality  weight  chocolate  oats  \\\n",
       "0                 0.67        9.7        0    16.6          1     0   \n",
       "1                 0.44       10.0        0    13.8          1     0   \n",
       "2                 0.53       10.0        0    17.0          1     0   \n",
       "3                 0.46       10.9        0    12.4          1     1   \n",
       "4                 0.44        9.1        0    14.8          1     0   \n",
       "..                 ...        ...      ...     ...        ...   ...   \n",
       "774               0.75        9.8        0    13.8          1     1   \n",
       "775               0.52        9.6        0    14.8          0     1   \n",
       "776               0.61       10.0        0    12.4          0     1   \n",
       "777               0.57       11.0        0    13.4          0     0   \n",
       "778               0.75        8.8        0    19.8          0     0   \n",
       "\n",
       "     peanut butter  nuts  raisins  cubed  melted  \n",
       "0                0     1        0      0       1  \n",
       "1                0     0        0      0       1  \n",
       "2                0     0        0      0       1  \n",
       "3                0     0        0      0       1  \n",
       "4                0     0        0      0       1  \n",
       "..             ...   ...      ...    ...     ...  \n",
       "774              0     1        0      1       0  \n",
       "775              0     1        0      1       0  \n",
       "776              0     1        0      1       0  \n",
       "777              1     0        0      1       0  \n",
       "778              0     1        1      1       0  \n",
       "\n",
       "[779 rows x 16 columns]"
      ],
      "text/html": "<div>\n<style scoped>\n    .dataframe tbody tr th:only-of-type {\n        vertical-align: middle;\n    }\n\n    .dataframe tbody tr th {\n        vertical-align: top;\n    }\n\n    .dataframe thead th {\n        text-align: right;\n    }\n</style>\n<table border=\"1\" class=\"dataframe\">\n  <thead>\n    <tr style=\"text-align: right;\">\n      <th></th>\n      <th>sugar to flour ratio</th>\n      <th>sugar index</th>\n      <th>bake temp</th>\n      <th>chill time</th>\n      <th>calories</th>\n      <th>grams baking soda</th>\n      <th>bake time</th>\n      <th>quality</th>\n      <th>weight</th>\n      <th>chocolate</th>\n      <th>oats</th>\n      <th>peanut butter</th>\n      <th>nuts</th>\n      <th>raisins</th>\n      <th>cubed</th>\n      <th>melted</th>\n    </tr>\n  </thead>\n  <tbody>\n    <tr>\n      <th>0</th>\n      <td>0.62</td>\n      <td>19.25</td>\n      <td>400.0</td>\n      <td>41.0</td>\n      <td>172.0</td>\n      <td>0.67</td>\n      <td>9.7</td>\n      <td>0</td>\n      <td>16.6</td>\n      <td>1</td>\n      <td>0</td>\n      <td>0</td>\n      <td>1</td>\n      <td>0</td>\n      <td>0</td>\n      <td>1</td>\n    </tr>\n    <tr>\n      <th>1</th>\n      <td>0.35</td>\n      <td>1.00</td>\n      <td>520.0</td>\n      <td>35.0</td>\n      <td>146.0</td>\n      <td>0.44</td>\n      <td>10.0</td>\n      <td>0</td>\n      <td>13.8</td>\n      <td>1</td>\n      <td>0</td>\n      <td>0</td>\n      <td>0</td>\n      <td>0</td>\n      <td>0</td>\n      <td>1</td>\n    </tr>\n    <tr>\n      <th>2</th>\n      <td>0.39</td>\n      <td>10.40</td>\n      <td>440.0</td>\n      <td>20.0</td>\n      <td>142.0</td>\n      <td>0.53</td>\n      <td>10.0</td>\n      <td>0</td>\n      <td>17.0</td>\n      <td>1</td>\n      <td>0</td>\n      <td>0</td>\n      <td>0</td>\n      <td>0</td>\n      <td>0</td>\n      <td>1</td>\n    </tr>\n    <tr>\n      <th>3</th>\n      <td>0.33</td>\n      <td>1.10</td>\n      <td>570.0</td>\n      <td>21.0</td>\n      <td>82.0</td>\n      <td>0.46</td>\n      <td>10.9</td>\n      <td>0</td>\n      <td>12.4</td>\n      <td>1</td>\n      <td>1</td>\n      <td>0</td>\n      <td>0</td>\n      <td>0</td>\n      <td>0</td>\n      <td>1</td>\n    </tr>\n    <tr>\n      <th>4</th>\n      <td>0.37</td>\n      <td>13.50</td>\n      <td>600.0</td>\n      <td>52.0</td>\n      <td>192.0</td>\n      <td>0.44</td>\n      <td>9.1</td>\n      <td>0</td>\n      <td>14.8</td>\n      <td>1</td>\n      <td>0</td>\n      <td>0</td>\n      <td>0</td>\n      <td>0</td>\n      <td>0</td>\n      <td>1</td>\n    </tr>\n    <tr>\n      <th>...</th>\n      <td>...</td>\n      <td>...</td>\n      <td>...</td>\n      <td>...</td>\n      <td>...</td>\n      <td>...</td>\n      <td>...</td>\n      <td>...</td>\n      <td>...</td>\n      <td>...</td>\n      <td>...</td>\n      <td>...</td>\n      <td>...</td>\n      <td>...</td>\n      <td>...</td>\n      <td>...</td>\n    </tr>\n    <tr>\n      <th>774</th>\n      <td>0.02</td>\n      <td>1.90</td>\n      <td>780.0</td>\n      <td>18.0</td>\n      <td>30.0</td>\n      <td>0.75</td>\n      <td>9.8</td>\n      <td>0</td>\n      <td>13.8</td>\n      <td>1</td>\n      <td>1</td>\n      <td>0</td>\n      <td>1</td>\n      <td>0</td>\n      <td>1</td>\n      <td>0</td>\n    </tr>\n    <tr>\n      <th>775</th>\n      <td>0.19</td>\n      <td>5.20</td>\n      <td>940.0</td>\n      <td>19.0</td>\n      <td>98.0</td>\n      <td>0.52</td>\n      <td>9.6</td>\n      <td>0</td>\n      <td>14.8</td>\n      <td>0</td>\n      <td>1</td>\n      <td>0</td>\n      <td>1</td>\n      <td>0</td>\n      <td>1</td>\n      <td>0</td>\n    </tr>\n    <tr>\n      <th>776</th>\n      <td>0.00</td>\n      <td>2.10</td>\n      <td>600.0</td>\n      <td>6.0</td>\n      <td>13.0</td>\n      <td>0.61</td>\n      <td>10.0</td>\n      <td>0</td>\n      <td>12.4</td>\n      <td>0</td>\n      <td>1</td>\n      <td>0</td>\n      <td>1</td>\n      <td>0</td>\n      <td>1</td>\n      <td>0</td>\n    </tr>\n    <tr>\n      <th>777</th>\n      <td>0.08</td>\n      <td>2.30</td>\n      <td>670.0</td>\n      <td>19.0</td>\n      <td>32.0</td>\n      <td>0.57</td>\n      <td>11.0</td>\n      <td>0</td>\n      <td>13.4</td>\n      <td>0</td>\n      <td>0</td>\n      <td>1</td>\n      <td>0</td>\n      <td>0</td>\n      <td>1</td>\n      <td>0</td>\n    </tr>\n    <tr>\n      <th>778</th>\n      <td>0.50</td>\n      <td>13.80</td>\n      <td>2050.0</td>\n      <td>48.0</td>\n      <td>82.0</td>\n      <td>0.75</td>\n      <td>8.8</td>\n      <td>0</td>\n      <td>19.8</td>\n      <td>0</td>\n      <td>0</td>\n      <td>0</td>\n      <td>1</td>\n      <td>1</td>\n      <td>1</td>\n      <td>0</td>\n    </tr>\n  </tbody>\n</table>\n<p>779 rows × 16 columns</p>\n</div>"
     },
     "metadata": {},
     "execution_count": 25
    }
   ],
   "source": [
    "cookies2_test"
   ]
  },
  {
   "cell_type": "code",
   "execution_count": 26,
   "metadata": {},
   "outputs": [],
   "source": [
    "cookies3_test = cookies2_test.copy()"
   ]
  },
  {
   "cell_type": "code",
   "execution_count": 30,
   "metadata": {},
   "outputs": [
    {
     "output_type": "error",
     "ename": "KeyError",
     "evalue": "\"['chocolate' 'oats' 'peanut butter' 'nuts' 'raisins'] not found in axis\"",
     "traceback": [
      "\u001b[1;31m---------------------------------------------------------------------------\u001b[0m",
      "\u001b[1;31mKeyError\u001b[0m                                  Traceback (most recent call last)",
      "\u001b[1;32m<ipython-input-30-99078fada578>\u001b[0m in \u001b[0;36m<module>\u001b[1;34m\u001b[0m\n\u001b[1;32m----> 1\u001b[1;33m \u001b[0mcookies3_test\u001b[0m\u001b[1;33m.\u001b[0m\u001b[0mdrop\u001b[0m\u001b[1;33m(\u001b[0m\u001b[1;33m[\u001b[0m\u001b[1;34m\"chocolate\"\u001b[0m\u001b[1;33m,\u001b[0m \u001b[1;34m\"oats\"\u001b[0m\u001b[1;33m,\u001b[0m\u001b[1;34m\"peanut butter\"\u001b[0m\u001b[1;33m,\u001b[0m\u001b[1;34m\"nuts\"\u001b[0m\u001b[1;33m,\u001b[0m \u001b[1;34m\"raisins\"\u001b[0m\u001b[1;33m]\u001b[0m\u001b[1;33m,\u001b[0m \u001b[0maxis\u001b[0m\u001b[1;33m=\u001b[0m\u001b[1;36m1\u001b[0m\u001b[1;33m,\u001b[0m \u001b[0minplace\u001b[0m\u001b[1;33m=\u001b[0m\u001b[1;32mTrue\u001b[0m\u001b[1;33m)\u001b[0m\u001b[1;33m\u001b[0m\u001b[1;33m\u001b[0m\u001b[0m\n\u001b[0m",
      "\u001b[1;32m~\\anaconda3\\lib\\site-packages\\pandas\\core\\frame.py\u001b[0m in \u001b[0;36mdrop\u001b[1;34m(self, labels, axis, index, columns, level, inplace, errors)\u001b[0m\n\u001b[0;32m   4306\u001b[0m                 \u001b[0mweight\u001b[0m  \u001b[1;36m1.0\u001b[0m     \u001b[1;36m0.8\u001b[0m\u001b[1;33m\u001b[0m\u001b[1;33m\u001b[0m\u001b[0m\n\u001b[0;32m   4307\u001b[0m         \"\"\"\n\u001b[1;32m-> 4308\u001b[1;33m         return super().drop(\n\u001b[0m\u001b[0;32m   4309\u001b[0m             \u001b[0mlabels\u001b[0m\u001b[1;33m=\u001b[0m\u001b[0mlabels\u001b[0m\u001b[1;33m,\u001b[0m\u001b[1;33m\u001b[0m\u001b[1;33m\u001b[0m\u001b[0m\n\u001b[0;32m   4310\u001b[0m             \u001b[0maxis\u001b[0m\u001b[1;33m=\u001b[0m\u001b[0maxis\u001b[0m\u001b[1;33m,\u001b[0m\u001b[1;33m\u001b[0m\u001b[1;33m\u001b[0m\u001b[0m\n",
      "\u001b[1;32m~\\anaconda3\\lib\\site-packages\\pandas\\core\\generic.py\u001b[0m in \u001b[0;36mdrop\u001b[1;34m(self, labels, axis, index, columns, level, inplace, errors)\u001b[0m\n\u001b[0;32m   4151\u001b[0m         \u001b[1;32mfor\u001b[0m \u001b[0maxis\u001b[0m\u001b[1;33m,\u001b[0m \u001b[0mlabels\u001b[0m \u001b[1;32min\u001b[0m \u001b[0maxes\u001b[0m\u001b[1;33m.\u001b[0m\u001b[0mitems\u001b[0m\u001b[1;33m(\u001b[0m\u001b[1;33m)\u001b[0m\u001b[1;33m:\u001b[0m\u001b[1;33m\u001b[0m\u001b[1;33m\u001b[0m\u001b[0m\n\u001b[0;32m   4152\u001b[0m             \u001b[1;32mif\u001b[0m \u001b[0mlabels\u001b[0m \u001b[1;32mis\u001b[0m \u001b[1;32mnot\u001b[0m \u001b[1;32mNone\u001b[0m\u001b[1;33m:\u001b[0m\u001b[1;33m\u001b[0m\u001b[1;33m\u001b[0m\u001b[0m\n\u001b[1;32m-> 4153\u001b[1;33m                 \u001b[0mobj\u001b[0m \u001b[1;33m=\u001b[0m \u001b[0mobj\u001b[0m\u001b[1;33m.\u001b[0m\u001b[0m_drop_axis\u001b[0m\u001b[1;33m(\u001b[0m\u001b[0mlabels\u001b[0m\u001b[1;33m,\u001b[0m \u001b[0maxis\u001b[0m\u001b[1;33m,\u001b[0m \u001b[0mlevel\u001b[0m\u001b[1;33m=\u001b[0m\u001b[0mlevel\u001b[0m\u001b[1;33m,\u001b[0m \u001b[0merrors\u001b[0m\u001b[1;33m=\u001b[0m\u001b[0merrors\u001b[0m\u001b[1;33m)\u001b[0m\u001b[1;33m\u001b[0m\u001b[1;33m\u001b[0m\u001b[0m\n\u001b[0m\u001b[0;32m   4154\u001b[0m \u001b[1;33m\u001b[0m\u001b[0m\n\u001b[0;32m   4155\u001b[0m         \u001b[1;32mif\u001b[0m \u001b[0minplace\u001b[0m\u001b[1;33m:\u001b[0m\u001b[1;33m\u001b[0m\u001b[1;33m\u001b[0m\u001b[0m\n",
      "\u001b[1;32m~\\anaconda3\\lib\\site-packages\\pandas\\core\\generic.py\u001b[0m in \u001b[0;36m_drop_axis\u001b[1;34m(self, labels, axis, level, errors)\u001b[0m\n\u001b[0;32m   4186\u001b[0m                 \u001b[0mnew_axis\u001b[0m \u001b[1;33m=\u001b[0m \u001b[0maxis\u001b[0m\u001b[1;33m.\u001b[0m\u001b[0mdrop\u001b[0m\u001b[1;33m(\u001b[0m\u001b[0mlabels\u001b[0m\u001b[1;33m,\u001b[0m \u001b[0mlevel\u001b[0m\u001b[1;33m=\u001b[0m\u001b[0mlevel\u001b[0m\u001b[1;33m,\u001b[0m \u001b[0merrors\u001b[0m\u001b[1;33m=\u001b[0m\u001b[0merrors\u001b[0m\u001b[1;33m)\u001b[0m\u001b[1;33m\u001b[0m\u001b[1;33m\u001b[0m\u001b[0m\n\u001b[0;32m   4187\u001b[0m             \u001b[1;32melse\u001b[0m\u001b[1;33m:\u001b[0m\u001b[1;33m\u001b[0m\u001b[1;33m\u001b[0m\u001b[0m\n\u001b[1;32m-> 4188\u001b[1;33m                 \u001b[0mnew_axis\u001b[0m \u001b[1;33m=\u001b[0m \u001b[0maxis\u001b[0m\u001b[1;33m.\u001b[0m\u001b[0mdrop\u001b[0m\u001b[1;33m(\u001b[0m\u001b[0mlabels\u001b[0m\u001b[1;33m,\u001b[0m \u001b[0merrors\u001b[0m\u001b[1;33m=\u001b[0m\u001b[0merrors\u001b[0m\u001b[1;33m)\u001b[0m\u001b[1;33m\u001b[0m\u001b[1;33m\u001b[0m\u001b[0m\n\u001b[0m\u001b[0;32m   4189\u001b[0m             \u001b[0mresult\u001b[0m \u001b[1;33m=\u001b[0m \u001b[0mself\u001b[0m\u001b[1;33m.\u001b[0m\u001b[0mreindex\u001b[0m\u001b[1;33m(\u001b[0m\u001b[1;33m**\u001b[0m\u001b[1;33m{\u001b[0m\u001b[0maxis_name\u001b[0m\u001b[1;33m:\u001b[0m \u001b[0mnew_axis\u001b[0m\u001b[1;33m}\u001b[0m\u001b[1;33m)\u001b[0m\u001b[1;33m\u001b[0m\u001b[1;33m\u001b[0m\u001b[0m\n\u001b[0;32m   4190\u001b[0m \u001b[1;33m\u001b[0m\u001b[0m\n",
      "\u001b[1;32m~\\anaconda3\\lib\\site-packages\\pandas\\core\\indexes\\base.py\u001b[0m in \u001b[0;36mdrop\u001b[1;34m(self, labels, errors)\u001b[0m\n\u001b[0;32m   5589\u001b[0m         \u001b[1;32mif\u001b[0m \u001b[0mmask\u001b[0m\u001b[1;33m.\u001b[0m\u001b[0many\u001b[0m\u001b[1;33m(\u001b[0m\u001b[1;33m)\u001b[0m\u001b[1;33m:\u001b[0m\u001b[1;33m\u001b[0m\u001b[1;33m\u001b[0m\u001b[0m\n\u001b[0;32m   5590\u001b[0m             \u001b[1;32mif\u001b[0m \u001b[0merrors\u001b[0m \u001b[1;33m!=\u001b[0m \u001b[1;34m\"ignore\"\u001b[0m\u001b[1;33m:\u001b[0m\u001b[1;33m\u001b[0m\u001b[1;33m\u001b[0m\u001b[0m\n\u001b[1;32m-> 5591\u001b[1;33m                 \u001b[1;32mraise\u001b[0m \u001b[0mKeyError\u001b[0m\u001b[1;33m(\u001b[0m\u001b[1;34mf\"{labels[mask]} not found in axis\"\u001b[0m\u001b[1;33m)\u001b[0m\u001b[1;33m\u001b[0m\u001b[1;33m\u001b[0m\u001b[0m\n\u001b[0m\u001b[0;32m   5592\u001b[0m             \u001b[0mindexer\u001b[0m \u001b[1;33m=\u001b[0m \u001b[0mindexer\u001b[0m\u001b[1;33m[\u001b[0m\u001b[1;33m~\u001b[0m\u001b[0mmask\u001b[0m\u001b[1;33m]\u001b[0m\u001b[1;33m\u001b[0m\u001b[1;33m\u001b[0m\u001b[0m\n\u001b[0;32m   5593\u001b[0m         \u001b[1;32mreturn\u001b[0m \u001b[0mself\u001b[0m\u001b[1;33m.\u001b[0m\u001b[0mdelete\u001b[0m\u001b[1;33m(\u001b[0m\u001b[0mindexer\u001b[0m\u001b[1;33m)\u001b[0m\u001b[1;33m\u001b[0m\u001b[1;33m\u001b[0m\u001b[0m\n",
      "\u001b[1;31mKeyError\u001b[0m: \"['chocolate' 'oats' 'peanut butter' 'nuts' 'raisins'] not found in axis\""
     ]
    }
   ],
   "source": [
    "cookies3_test.drop([\"chocolate\", \"oats\",\"peanut butter\",\"nuts\", \"raisins\"], axis=1, inplace=True)"
   ]
  },
  {
   "cell_type": "code",
   "execution_count": 32,
   "metadata": {},
   "outputs": [],
   "source": [
    "cookies3_test.drop([\"sugar to flour ratio\"], axis=1, inplace=True)"
   ]
  },
  {
   "cell_type": "code",
   "execution_count": 33,
   "metadata": {},
   "outputs": [
    {
     "output_type": "execute_result",
     "data": {
      "text/plain": [
       "     sugar index  bake temp  chill time  calories  grams baking soda  \\\n",
       "0          19.25      400.0        41.0     172.0               0.67   \n",
       "1           1.00      520.0        35.0     146.0               0.44   \n",
       "2          10.40      440.0        20.0     142.0               0.53   \n",
       "3           1.10      570.0        21.0      82.0               0.46   \n",
       "4          13.50      600.0        52.0     192.0               0.44   \n",
       "..           ...        ...         ...       ...                ...   \n",
       "774         1.90      780.0        18.0      30.0               0.75   \n",
       "775         5.20      940.0        19.0      98.0               0.52   \n",
       "776         2.10      600.0         6.0      13.0               0.61   \n",
       "777         2.30      670.0        19.0      32.0               0.57   \n",
       "778        13.80     2050.0        48.0      82.0               0.75   \n",
       "\n",
       "     bake time  quality  weight  cubed  melted  \n",
       "0          9.7        0    16.6      0       1  \n",
       "1         10.0        0    13.8      0       1  \n",
       "2         10.0        0    17.0      0       1  \n",
       "3         10.9        0    12.4      0       1  \n",
       "4          9.1        0    14.8      0       1  \n",
       "..         ...      ...     ...    ...     ...  \n",
       "774        9.8        0    13.8      1       0  \n",
       "775        9.6        0    14.8      1       0  \n",
       "776       10.0        0    12.4      1       0  \n",
       "777       11.0        0    13.4      1       0  \n",
       "778        8.8        0    19.8      1       0  \n",
       "\n",
       "[779 rows x 10 columns]"
      ],
      "text/html": "<div>\n<style scoped>\n    .dataframe tbody tr th:only-of-type {\n        vertical-align: middle;\n    }\n\n    .dataframe tbody tr th {\n        vertical-align: top;\n    }\n\n    .dataframe thead th {\n        text-align: right;\n    }\n</style>\n<table border=\"1\" class=\"dataframe\">\n  <thead>\n    <tr style=\"text-align: right;\">\n      <th></th>\n      <th>sugar index</th>\n      <th>bake temp</th>\n      <th>chill time</th>\n      <th>calories</th>\n      <th>grams baking soda</th>\n      <th>bake time</th>\n      <th>quality</th>\n      <th>weight</th>\n      <th>cubed</th>\n      <th>melted</th>\n    </tr>\n  </thead>\n  <tbody>\n    <tr>\n      <th>0</th>\n      <td>19.25</td>\n      <td>400.0</td>\n      <td>41.0</td>\n      <td>172.0</td>\n      <td>0.67</td>\n      <td>9.7</td>\n      <td>0</td>\n      <td>16.6</td>\n      <td>0</td>\n      <td>1</td>\n    </tr>\n    <tr>\n      <th>1</th>\n      <td>1.00</td>\n      <td>520.0</td>\n      <td>35.0</td>\n      <td>146.0</td>\n      <td>0.44</td>\n      <td>10.0</td>\n      <td>0</td>\n      <td>13.8</td>\n      <td>0</td>\n      <td>1</td>\n    </tr>\n    <tr>\n      <th>2</th>\n      <td>10.40</td>\n      <td>440.0</td>\n      <td>20.0</td>\n      <td>142.0</td>\n      <td>0.53</td>\n      <td>10.0</td>\n      <td>0</td>\n      <td>17.0</td>\n      <td>0</td>\n      <td>1</td>\n    </tr>\n    <tr>\n      <th>3</th>\n      <td>1.10</td>\n      <td>570.0</td>\n      <td>21.0</td>\n      <td>82.0</td>\n      <td>0.46</td>\n      <td>10.9</td>\n      <td>0</td>\n      <td>12.4</td>\n      <td>0</td>\n      <td>1</td>\n    </tr>\n    <tr>\n      <th>4</th>\n      <td>13.50</td>\n      <td>600.0</td>\n      <td>52.0</td>\n      <td>192.0</td>\n      <td>0.44</td>\n      <td>9.1</td>\n      <td>0</td>\n      <td>14.8</td>\n      <td>0</td>\n      <td>1</td>\n    </tr>\n    <tr>\n      <th>...</th>\n      <td>...</td>\n      <td>...</td>\n      <td>...</td>\n      <td>...</td>\n      <td>...</td>\n      <td>...</td>\n      <td>...</td>\n      <td>...</td>\n      <td>...</td>\n      <td>...</td>\n    </tr>\n    <tr>\n      <th>774</th>\n      <td>1.90</td>\n      <td>780.0</td>\n      <td>18.0</td>\n      <td>30.0</td>\n      <td>0.75</td>\n      <td>9.8</td>\n      <td>0</td>\n      <td>13.8</td>\n      <td>1</td>\n      <td>0</td>\n    </tr>\n    <tr>\n      <th>775</th>\n      <td>5.20</td>\n      <td>940.0</td>\n      <td>19.0</td>\n      <td>98.0</td>\n      <td>0.52</td>\n      <td>9.6</td>\n      <td>0</td>\n      <td>14.8</td>\n      <td>1</td>\n      <td>0</td>\n    </tr>\n    <tr>\n      <th>776</th>\n      <td>2.10</td>\n      <td>600.0</td>\n      <td>6.0</td>\n      <td>13.0</td>\n      <td>0.61</td>\n      <td>10.0</td>\n      <td>0</td>\n      <td>12.4</td>\n      <td>1</td>\n      <td>0</td>\n    </tr>\n    <tr>\n      <th>777</th>\n      <td>2.30</td>\n      <td>670.0</td>\n      <td>19.0</td>\n      <td>32.0</td>\n      <td>0.57</td>\n      <td>11.0</td>\n      <td>0</td>\n      <td>13.4</td>\n      <td>1</td>\n      <td>0</td>\n    </tr>\n    <tr>\n      <th>778</th>\n      <td>13.80</td>\n      <td>2050.0</td>\n      <td>48.0</td>\n      <td>82.0</td>\n      <td>0.75</td>\n      <td>8.8</td>\n      <td>0</td>\n      <td>19.8</td>\n      <td>1</td>\n      <td>0</td>\n    </tr>\n  </tbody>\n</table>\n<p>779 rows × 10 columns</p>\n</div>"
     },
     "metadata": {},
     "execution_count": 33
    }
   ],
   "source": [
    "cookies3_test"
   ]
  },
  {
   "source": [
    "## Exporting dataframes"
   ],
   "cell_type": "markdown",
   "metadata": {}
  },
  {
   "cell_type": "code",
   "execution_count": 41,
   "metadata": {},
   "outputs": [],
   "source": [
    "cookies_test.to_csv(\"../data/cookies_test_processed.csv\")"
   ]
  },
  {
   "cell_type": "code",
   "execution_count": 42,
   "metadata": {},
   "outputs": [],
   "source": [
    "cookies2_test.to_csv(\"../data/cookies2_test_processed.csv\")"
   ]
  },
  {
   "cell_type": "code",
   "execution_count": 36,
   "metadata": {},
   "outputs": [],
   "source": [
    "cookies3_test.to_csv(\"../data/cookies3_test_processed.csv\")"
   ]
  },
  {
   "cell_type": "code",
   "execution_count": null,
   "metadata": {},
   "outputs": [],
   "source": []
  }
 ]
}